{
 "cells": [
  {
   "cell_type": "markdown",
   "metadata": {},
   "source": [
    "# Рекомендация тарифов"
   ]
  },
  {
   "cell_type": "markdown",
   "metadata": {},
   "source": [
    "В вашем распоряжении данные о поведении клиентов, которые уже перешли на эти тарифы (из проекта курса «Статистический анализ данных»). Нужно построить модель для задачи классификации, которая выберет подходящий тариф. Предобработка данных не понадобится — вы её уже сделали.\n",
    "\n",
    "Постройте модель с максимально большим значением *accuracy*. Чтобы сдать проект успешно, нужно довести долю правильных ответов по крайней мере до 0.75. Проверьте *accuracy* на тестовой выборке самостоятельно."
   ]
  },
  {
   "cell_type": "markdown",
   "metadata": {},
   "source": [
    "Был получен набор данных со следующими полями:\n",
    "\n",
    "    сalls — количество звонков,\n",
    "    minutes — суммарная длительность звонков в минутах,\n",
    "    messages — количество sms-сообщений,\n",
    "    mb_used — израсходованный интернет-трафик в Мб,\n",
    "    is_ultra — каким тарифом пользовался в течение месяца («Ультра» — 1, «Смарт» — 0)."
   ]
  },
  {
   "cell_type": "markdown",
   "metadata": {},
   "source": [
    "## 1. Откройте и изучите файл"
   ]
  },
  {
   "cell_type": "code",
   "execution_count": 8,
   "metadata": {},
   "outputs": [
    {
     "data": {
      "text/html": [
       "<div>\n",
       "<style scoped>\n",
       "    .dataframe tbody tr th:only-of-type {\n",
       "        vertical-align: middle;\n",
       "    }\n",
       "\n",
       "    .dataframe tbody tr th {\n",
       "        vertical-align: top;\n",
       "    }\n",
       "\n",
       "    .dataframe thead th {\n",
       "        text-align: right;\n",
       "    }\n",
       "</style>\n",
       "<table border=\"1\" class=\"dataframe\">\n",
       "  <thead>\n",
       "    <tr style=\"text-align: right;\">\n",
       "      <th></th>\n",
       "      <th>calls</th>\n",
       "      <th>minutes</th>\n",
       "      <th>messages</th>\n",
       "      <th>mb_used</th>\n",
       "      <th>is_ultra</th>\n",
       "    </tr>\n",
       "  </thead>\n",
       "  <tbody>\n",
       "    <tr>\n",
       "      <td>0</td>\n",
       "      <td>40.0</td>\n",
       "      <td>311.90</td>\n",
       "      <td>83.0</td>\n",
       "      <td>19915.42</td>\n",
       "      <td>0</td>\n",
       "    </tr>\n",
       "    <tr>\n",
       "      <td>1</td>\n",
       "      <td>85.0</td>\n",
       "      <td>516.75</td>\n",
       "      <td>56.0</td>\n",
       "      <td>22696.96</td>\n",
       "      <td>0</td>\n",
       "    </tr>\n",
       "    <tr>\n",
       "      <td>2</td>\n",
       "      <td>77.0</td>\n",
       "      <td>467.66</td>\n",
       "      <td>86.0</td>\n",
       "      <td>21060.45</td>\n",
       "      <td>0</td>\n",
       "    </tr>\n",
       "    <tr>\n",
       "      <td>3</td>\n",
       "      <td>106.0</td>\n",
       "      <td>745.53</td>\n",
       "      <td>81.0</td>\n",
       "      <td>8437.39</td>\n",
       "      <td>1</td>\n",
       "    </tr>\n",
       "    <tr>\n",
       "      <td>4</td>\n",
       "      <td>66.0</td>\n",
       "      <td>418.74</td>\n",
       "      <td>1.0</td>\n",
       "      <td>14502.75</td>\n",
       "      <td>0</td>\n",
       "    </tr>\n",
       "  </tbody>\n",
       "</table>\n",
       "</div>"
      ],
      "text/plain": [
       "   calls  minutes  messages   mb_used  is_ultra\n",
       "0   40.0   311.90      83.0  19915.42         0\n",
       "1   85.0   516.75      56.0  22696.96         0\n",
       "2   77.0   467.66      86.0  21060.45         0\n",
       "3  106.0   745.53      81.0   8437.39         1\n",
       "4   66.0   418.74       1.0  14502.75         0"
      ]
     },
     "metadata": {},
     "output_type": "display_data"
    },
    {
     "name": "stdout",
     "output_type": "stream",
     "text": [
      "0    2229\n",
      "1     985\n",
      "Name: is_ultra, dtype: int64\n"
     ]
    }
   ],
   "source": [
    "import pandas as pd\n",
    "\n",
    "from sklearn.ensemble import RandomForestClassifier\n",
    "from sklearn.linear_model import LogisticRegression\n",
    "from sklearn.tree import DecisionTreeClassifier\n",
    "from sklearn.dummy import DummyClassifier\n",
    "from sklearn.metrics import accuracy_score\n",
    "from sklearn.model_selection import train_test_split\n",
    "\n",
    "import warnings\n",
    "warnings.filterwarnings(\"ignore\", category=FutureWarning)\n",
    "\n",
    "data = pd.read_csv('/datasets/users_behavior.csv')\n",
    "\n",
    "display(data.head())\n",
    "print(data['is_ultra'].value_counts())"
   ]
  },
  {
   "cell_type": "markdown",
   "metadata": {},
   "source": [
    "## 2. Разбейте данные на выборки"
   ]
  },
  {
   "cell_type": "code",
   "execution_count": 9,
   "metadata": {},
   "outputs": [],
   "source": [
    "data_train, data_40 = train_test_split(data, test_size = 0.4, stratify = data['is_ultra'], random_state = 12345)\n",
    "data_valid, data_test = train_test_split(data_40, test_size = 0.5, stratify = data_40['is_ultra'], random_state = 12345)\n",
    "\n",
    "\n",
    "def features_target_fun(data):\n",
    "    fetures = data.drop('is_ultra', axis = 1)\n",
    "    target = data['is_ultra']\n",
    "    return fetures, target\n",
    "\n",
    "\n",
    "features_train, target_train = features_target_fun(data_train)\n",
    "features_valid, target_valid = features_target_fun(data_valid)\n",
    "features_test, target_test = features_target_fun(data_test)"
   ]
  },
  {
   "cell_type": "markdown",
   "metadata": {},
   "source": [
    "Данные из файла были разделены на тренировочные, валидационные и тестовые в соотношении (3:1:1). Был использован параметр stratify по причине того, что количество пользователей тарифа Smart сильно отличается от количества пользователей тарифа Ultra.\n",
    "Кроме этого была написана функция, которая получила признаки и целевые признаки для каждой группы данных."
   ]
  },
  {
   "cell_type": "markdown",
   "metadata": {},
   "source": [
    "## 3. Исследуйте модели"
   ]
  },
  {
   "cell_type": "code",
   "execution_count": 10,
   "metadata": {},
   "outputs": [],
   "source": [
    "def decisionTreeClassifier_fun(features_train, target_train, features_valid, target_valid):\n",
    "    best_model = None\n",
    "    best_accuracy = 0\n",
    "    best_depth = 0\n",
    "    for depth in range(1, 11):\n",
    "        model = DecisionTreeClassifier(max_depth = depth, random_state = 12345)\n",
    "        model.fit(features_train, target_train)\n",
    "        prediction = model.predict(features_valid)\n",
    "        result = accuracy_score(target_valid, prediction)\n",
    "        if result > best_accuracy:\n",
    "            best_model = model\n",
    "            best_accuracy = result\n",
    "            best_depth = depth\n",
    "    return best_model\n",
    "    \n",
    "dtc_model = decisionTreeClassifier_fun(features_train, target_train, features_valid, target_valid)"
   ]
  },
  {
   "cell_type": "markdown",
   "metadata": {},
   "source": [
    "При получении результата качества модели DecisionTreeClassifier была вявлена лучшая модель с глубиной best_depth = 8 и accuracy = 0.802"
   ]
  },
  {
   "cell_type": "code",
   "execution_count": 11,
   "metadata": {},
   "outputs": [],
   "source": [
    "def randomForestClassifier_fun(features_train, target_train, features_valid, target_valid):\n",
    "    best_accuracy = 0\n",
    "    best_depth = 0\n",
    "    best_est = 0\n",
    "    best_model = None\n",
    "    \n",
    "    # после проверки на количество деревьев в лесу (10, 51, 10)\n",
    "    # был получен результат best_depth = 9 best_est = 30 : 0.8164852255054432\n",
    "    # принято решение изменить цикл и исследовать модели с количством деревьев в предела [27:35]\n",
    "    # потом лучший результат качества был на количестве деревьев = 27, следующий промежуток [21, 27]\n",
    "    for est in range(21, 28, 1):\n",
    "        for depth in range (1, 11):\n",
    "            model = RandomForestClassifier(random_state=1234, n_estimators=est, max_depth=depth)\n",
    "            model.fit(features_train, target_train)\n",
    "            prediction = model.predict(features_valid)\n",
    "            result = accuracy_score(target_valid, prediction)\n",
    "            if result > best_accuracy:\n",
    "                best_model = model\n",
    "                best_accuracy = result\n",
    "                best_depth = depth\n",
    "                best_est = est\n",
    "    return best_model\n",
    "    \n",
    "\n",
    "rfc_model = randomForestClassifier_fun(features_train, target_train, features_valid, target_valid)"
   ]
  },
  {
   "cell_type": "markdown",
   "metadata": {},
   "source": [
    "При получении результата качества модели RandomForestClassifier была получена модель со значениями глубины best_depth = 9, количества деревьев best_est = 25 и accuracy = 0.818. В ходе выбора лучшей модели изменялись пределы цикла по количеству деревьев в лесу 1) [10, 50] 2) [27, 33] 3) [21, 27]."
   ]
  },
  {
   "cell_type": "code",
   "execution_count": 12,
   "metadata": {},
   "outputs": [],
   "source": [
    "def logisticRegression_fun(features_train, target_train, features_valid, target_valid):\n",
    "    model_lr = LogisticRegression(random_state=12345)\n",
    "    model_lr.fit(features_train, target_train)\n",
    "    prediction = model_lr.predict(features_valid)\n",
    "    return model_lr\n",
    "\n",
    "lr_model = logisticRegression_fun(features_train, target_train, features_valid, target_valid)"
   ]
  },
  {
   "cell_type": "markdown",
   "metadata": {},
   "source": [
    "При получении результата качества модели LogisticRegression была получена модель со значением accuracy = 0.718"
   ]
  },
  {
   "cell_type": "markdown",
   "metadata": {},
   "source": [
    "## 4. Проверьте модель на тестовой выборке"
   ]
  },
  {
   "cell_type": "code",
   "execution_count": 13,
   "metadata": {},
   "outputs": [
    {
     "name": "stdout",
     "output_type": "stream",
     "text": [
      "---DecisionTreeClassifier---\n",
      "accuracy = 0.7838258164852255\n",
      "---RandomForestClassifier---\n",
      "accuracy = 0.8133748055987559\n",
      "---LogisticRegression---\n",
      "accuracy = 0.7107309486780715\n"
     ]
    }
   ],
   "source": [
    "print('---DecisionTreeClassifier---')\n",
    "print('accuracy =', dtc_model.score(features_test, target_test))\n",
    "print('---RandomForestClassifier---')\n",
    "print('accuracy =', rfc_model.score(features_test, target_test))\n",
    "print('---LogisticRegression---')\n",
    "print('accuracy =', lr_model.score(features_test, target_test))"
   ]
  },
  {
   "cell_type": "markdown",
   "metadata": {},
   "source": [
    "Лучше всех с тестовыми данными себя показала модель Случайного леса(accuracy = 0.813). Следовательно, выбираем её как оптимальную и будем использовать её в будущем."
   ]
  },
  {
   "cell_type": "markdown",
   "metadata": {},
   "source": [
    "## 5. (бонус) Проверьте модели на адекватность"
   ]
  },
  {
   "cell_type": "code",
   "execution_count": 14,
   "metadata": {},
   "outputs": [
    {
     "name": "stdout",
     "output_type": "stream",
     "text": [
      "Модель rfc_model \"Случайного леса\" адекватна\n"
     ]
    }
   ],
   "source": [
    "model_dc = DummyClassifier(strategy = 'most_frequent')\n",
    "model_dc.fit(features_train, target_train)\n",
    "\n",
    "if rfc_model.score(features_test, target_test) > model_dc.score(features_test, target_test):\n",
    "    print('Модель rfc_model \"Случайного леса\" адекватна')\n",
    "else:\n",
    "    print('rfc_model полный неадекват')"
   ]
  },
  {
   "cell_type": "markdown",
   "metadata": {},
   "source": [
    "После проверки модели на адекватность были получены результаты того, что Модель rfc_model \"Случайного леса\" адекватна. В процессе работы её сравнили с моделью DummyClassifier."
   ]
  },
  {
   "cell_type": "markdown",
   "metadata": {},
   "source": [
    "## Чек-лист готовности проекта"
   ]
  },
  {
   "cell_type": "markdown",
   "metadata": {},
   "source": [
    "Поставьте 'x' в выполненных пунктах. Далее нажмите Shift+Enter."
   ]
  },
  {
   "cell_type": "markdown",
   "metadata": {},
   "source": [
    "- [x] Jupyter Notebook открыт\n",
    "- [x] Весь код исполняется без ошибок\n",
    "- [x] Ячейки с кодом расположены в порядке исполнения\n",
    "- [x] Выполнено задание 1: данные загружены и изучены\n",
    "- [x] Выполнено задание 2: данные разбиты на три выборки\n",
    "- [x] Выполнено задание 3: проведено исследование моделей\n",
    "    - [x] Рассмотрено больше одной модели\n",
    "    - [x] Рассмотрено хотя бы 3 значения гипепараметров для какой-нибудь модели\n",
    "    - [x] Написаны выводы по результатам исследования\n",
    "- [x] Выполнено задание 3: Проведено тестирование\n",
    "- [x] Удалось достичь accuracy не меньше 0.75\n"
   ]
  },
  {
   "cell_type": "markdown",
   "metadata": {},
   "source": [
    "## Вывод"
   ]
  },
  {
   "cell_type": "markdown",
   "metadata": {},
   "source": [
    "В данном проектк были обучены несколько моделей и выбрана лучшая со значениями глубины best_depth = 9, количества деревьев best_est = 25 и accuracy = 0.818.\n",
    "На этапе разработки были сделаны следующие выводы:\n",
    " 1. Данные из файла были разделены на тренировочные, валидационные и тестовые в соотношении (3:1:1). Был использован параметр stratify по причине того, что количество пользователей тарифа Smart сильно отличается от количества пользователей тарифа Ultra. Кроме этого была написана функция, которая получила признаки и целевые признаки для каждой группы данных.\n",
    " 2. При получении результата качества модели DecisionTreeClassifier была вявлена лучшая модель с глубиной best_depth = 8 и accuracy = 0.802\n",
    " 3. При получении результата качества модели RandomForestClassifier была получена модель со значениями глубины best_depth = 9, количества деревьев best_est = 25 и accuracy = 0.818. В ходе выбора лучшей модели изменялись пределы цикла по количеству деревьев в лесу 1) [10, 50] 2) [27, 33] 3) [21, 27].\n",
    " 4. При получении результата качества модели LogisticRegression была получена модель со значением accuracy = 0.718\n",
    " 5. Лучше всех с тестовыми данными себя показала модель Случайного леса(accuracy = 0.813). Следовательно, выбираем её как оптимальную и будем использовать её в будущем.\n",
    " 6. После проверки модели на адекватность были получены результаты того, что Модель rfc_model \"Случайного леса\" адекватна. В процессе работы её сравнили с моделью DummyClassifier."
   ]
  }
 ],
 "metadata": {
  "kernelspec": {
   "display_name": "Python 3",
   "language": "python",
   "name": "python3"
  },
  "language_info": {
   "codemirror_mode": {
    "name": "ipython",
    "version": 3
   },
   "file_extension": ".py",
   "mimetype": "text/x-python",
   "name": "python",
   "nbconvert_exporter": "python",
   "pygments_lexer": "ipython3",
   "version": "3.7.8"
  },
  "toc": {
   "base_numbering": 1,
   "nav_menu": {
    "height": "328.993px",
    "width": "228.559px"
   },
   "number_sections": true,
   "sideBar": true,
   "skip_h1_title": false,
   "title_cell": "Table of Contents",
   "title_sidebar": "Contents",
   "toc_cell": false,
   "toc_position": {},
   "toc_section_display": true,
   "toc_window_display": false
  }
 },
 "nbformat": 4,
 "nbformat_minor": 2
}
