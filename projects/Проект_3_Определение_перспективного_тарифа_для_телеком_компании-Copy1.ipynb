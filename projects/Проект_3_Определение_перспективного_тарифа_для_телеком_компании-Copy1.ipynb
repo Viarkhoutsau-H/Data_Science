{
 "cells": [
  {
   "cell_type": "markdown",
   "metadata": {},
   "source": [
    "# Определение перспективного тарифа для телеком компании\n",
    "\n",
    "Вы аналитик компании «Мегалайн» — федерального оператора сотовой связи. Клиентам предлагают два тарифных плана: «Смарт» и «Ультра». Чтобы скорректировать рекламный бюджет, коммерческий департамент хочет понять, какой тариф приносит больше денег.\n",
    "Вам предстоит сделать предварительный анализ тарифов на небольшой выборке клиентов. В вашем распоряжении данные 500 пользователей «Мегалайна»: кто они, откуда, каким тарифом пользуются, сколько звонков и сообщений каждый отправил за 2018 год. Нужно проанализировать поведение клиентов и сделать вывод — какой тариф лучше "
   ]
  },
  {
   "cell_type": "raw",
   "metadata": {},
   "source": [
    "Описание данных:\n",
    "Таблица users (информация о пользователях):\n",
    "    user_id — уникальный идентификатор пользователя\n",
    "    first_name — имя пользователя\n",
    "    last_name — фамилия пользователя\n",
    "    age — возраст пользователя (годы)\n",
    "    reg_date — дата подключения тарифа (день, месяц, год)\n",
    "    churn_date — дата прекращения пользования тарифом \n",
    "    city — город проживания пользователя\n",
    "    tariff — название тарифного плана\n",
    "Таблица calls (информация о звонках):\n",
    "    id — уникальный номер звонка\n",
    "    call_date — дата звонка\n",
    "    duration — длительность звонка в минутах\n",
    "    user_id — идентификатор пользователя, сделавшего звонок\n",
    "Таблица messages (информация о сообщениях):\n",
    "    id — уникальный номер сообщения\n",
    "    message_date — дата сообщения\n",
    "    user_id — идентификатор пользователя, отправившего сообщение\n",
    "Таблица internet (информация об интернет-сессиях):\n",
    "    id — уникальный номер сессии\n",
    "    mb_used — объём потраченного за сессию интернет-трафика (в мегабайтах)\n",
    "    session_date — дата интернет-сессии\n",
    "    user_id — идентификатор пользователя\n",
    "Таблица tariffs (информация о тарифах):\n",
    "    tariff_name — название тарифа\n",
    "    rub_monthly_fee — ежемесячная абонентская плата в рублях\n",
    "    minutes_included — количество минут разговора в месяц, включённых в абонентскую плату\n",
    "    messages_included — количество сообщений в месяц, включённых в абонентскую плату\n",
    "    mb_per_month_included — объём интернет-трафика, включённого в абонентскую плату (в мегабайтах)\n",
    "    rub_per_minute — стоимость минуты разговора сверх тарифного пакета \n",
    "    rub_per_message — стоимость отправки сообщения сверх тарифного пакета\n",
    "    rub_per_gb — стоимость дополнительного гигабайта интернет-трафика сверх тарифного пакета (1 гигабайт = 1024 мегабайта)"
   ]
  },
  {
   "cell_type": "markdown",
   "metadata": {},
   "source": [
    "Всю работу можно моделить на несколько шагов:\n",
    "1. [Знакомство с данными](#1)\n",
    "2. [Обработка данных](#2)\n",
    "3. [Анализ данных](#3)\n",
    "4. [Проверка гипотез](#4)\n",
    "5. [Вывод по проекту](#5)"
   ]
  },
  {
   "cell_type": "markdown",
   "metadata": {},
   "source": [
    "## 1  \n",
    "# Знакомство с данными"
   ]
  },
  {
   "cell_type": "code",
   "execution_count": 1,
   "metadata": {},
   "outputs": [],
   "source": [
    "import seaborn as sns\n",
    "import pandas as pd\n",
    "import datetime\n",
    "import matplotlib.pyplot as plt\n",
    "import math\n",
    "\n",
    "from scipy import stats as st\n",
    "import numpy as np"
   ]
  },
  {
   "cell_type": "code",
   "execution_count": 2,
   "metadata": {},
   "outputs": [
    {
     "data": {
      "text/html": [
       "<div>\n",
       "<style scoped>\n",
       "    .dataframe tbody tr th:only-of-type {\n",
       "        vertical-align: middle;\n",
       "    }\n",
       "\n",
       "    .dataframe tbody tr th {\n",
       "        vertical-align: top;\n",
       "    }\n",
       "\n",
       "    .dataframe thead th {\n",
       "        text-align: right;\n",
       "    }\n",
       "</style>\n",
       "<table border=\"1\" class=\"dataframe\">\n",
       "  <thead>\n",
       "    <tr style=\"text-align: right;\">\n",
       "      <th></th>\n",
       "      <th>age</th>\n",
       "      <th>churn_date</th>\n",
       "      <th>city</th>\n",
       "      <th>first_name</th>\n",
       "      <th>last_name</th>\n",
       "      <th>reg_date</th>\n",
       "      <th>tariff</th>\n",
       "    </tr>\n",
       "    <tr>\n",
       "      <th>user_id</th>\n",
       "      <th></th>\n",
       "      <th></th>\n",
       "      <th></th>\n",
       "      <th></th>\n",
       "      <th></th>\n",
       "      <th></th>\n",
       "      <th></th>\n",
       "    </tr>\n",
       "  </thead>\n",
       "  <tbody>\n",
       "    <tr>\n",
       "      <td>1000</td>\n",
       "      <td>52</td>\n",
       "      <td>NaN</td>\n",
       "      <td>Краснодар</td>\n",
       "      <td>Рафаил</td>\n",
       "      <td>Верещагин</td>\n",
       "      <td>2018-05-25</td>\n",
       "      <td>ultra</td>\n",
       "    </tr>\n",
       "    <tr>\n",
       "      <td>1001</td>\n",
       "      <td>41</td>\n",
       "      <td>NaN</td>\n",
       "      <td>Москва</td>\n",
       "      <td>Иван</td>\n",
       "      <td>Ежов</td>\n",
       "      <td>2018-11-01</td>\n",
       "      <td>smart</td>\n",
       "    </tr>\n",
       "    <tr>\n",
       "      <td>1002</td>\n",
       "      <td>59</td>\n",
       "      <td>NaN</td>\n",
       "      <td>Стерлитамак</td>\n",
       "      <td>Евгений</td>\n",
       "      <td>Абрамович</td>\n",
       "      <td>2018-06-17</td>\n",
       "      <td>smart</td>\n",
       "    </tr>\n",
       "    <tr>\n",
       "      <td>1003</td>\n",
       "      <td>23</td>\n",
       "      <td>NaN</td>\n",
       "      <td>Москва</td>\n",
       "      <td>Белла</td>\n",
       "      <td>Белякова</td>\n",
       "      <td>2018-08-17</td>\n",
       "      <td>ultra</td>\n",
       "    </tr>\n",
       "    <tr>\n",
       "      <td>1004</td>\n",
       "      <td>68</td>\n",
       "      <td>NaN</td>\n",
       "      <td>Новокузнецк</td>\n",
       "      <td>Татьяна</td>\n",
       "      <td>Авдеенко</td>\n",
       "      <td>2018-05-14</td>\n",
       "      <td>ultra</td>\n",
       "    </tr>\n",
       "  </tbody>\n",
       "</table>\n",
       "</div>"
      ],
      "text/plain": [
       "         age churn_date         city first_name  last_name    reg_date tariff\n",
       "user_id                                                                      \n",
       "1000      52        NaN    Краснодар     Рафаил  Верещагин  2018-05-25  ultra\n",
       "1001      41        NaN       Москва       Иван       Ежов  2018-11-01  smart\n",
       "1002      59        NaN  Стерлитамак    Евгений  Абрамович  2018-06-17  smart\n",
       "1003      23        NaN       Москва      Белла   Белякова  2018-08-17  ultra\n",
       "1004      68        NaN  Новокузнецк    Татьяна   Авдеенко  2018-05-14  ultra"
      ]
     },
     "metadata": {},
     "output_type": "display_data"
    },
    {
     "name": "stdout",
     "output_type": "stream",
     "text": [
      "<class 'pandas.core.frame.DataFrame'>\n",
      "Int64Index: 500 entries, 1000 to 1499\n",
      "Data columns (total 7 columns):\n",
      "age           500 non-null int64\n",
      "churn_date    38 non-null object\n",
      "city          500 non-null object\n",
      "first_name    500 non-null object\n",
      "last_name     500 non-null object\n",
      "reg_date      500 non-null object\n",
      "tariff        500 non-null object\n",
      "dtypes: int64(1), object(6)\n",
      "memory usage: 31.2+ KB\n"
     ]
    }
   ],
   "source": [
    "users = pd.read_csv('/datasets/users.csv')\n",
    "users = users.set_index('user_id')\n",
    "display(users.head())\n",
    "users.info()"
   ]
  },
  {
   "cell_type": "code",
   "execution_count": 3,
   "metadata": {},
   "outputs": [
    {
     "data": {
      "text/html": [
       "<div>\n",
       "<style scoped>\n",
       "    .dataframe tbody tr th:only-of-type {\n",
       "        vertical-align: middle;\n",
       "    }\n",
       "\n",
       "    .dataframe tbody tr th {\n",
       "        vertical-align: top;\n",
       "    }\n",
       "\n",
       "    .dataframe thead th {\n",
       "        text-align: right;\n",
       "    }\n",
       "</style>\n",
       "<table border=\"1\" class=\"dataframe\">\n",
       "  <thead>\n",
       "    <tr style=\"text-align: right;\">\n",
       "      <th></th>\n",
       "      <th>id</th>\n",
       "      <th>call_date</th>\n",
       "      <th>duration</th>\n",
       "      <th>user_id</th>\n",
       "    </tr>\n",
       "  </thead>\n",
       "  <tbody>\n",
       "    <tr>\n",
       "      <td>0</td>\n",
       "      <td>1000_0</td>\n",
       "      <td>2018-07-25</td>\n",
       "      <td>0.00</td>\n",
       "      <td>1000</td>\n",
       "    </tr>\n",
       "    <tr>\n",
       "      <td>1</td>\n",
       "      <td>1000_1</td>\n",
       "      <td>2018-08-17</td>\n",
       "      <td>0.00</td>\n",
       "      <td>1000</td>\n",
       "    </tr>\n",
       "    <tr>\n",
       "      <td>2</td>\n",
       "      <td>1000_2</td>\n",
       "      <td>2018-06-11</td>\n",
       "      <td>2.85</td>\n",
       "      <td>1000</td>\n",
       "    </tr>\n",
       "    <tr>\n",
       "      <td>3</td>\n",
       "      <td>1000_3</td>\n",
       "      <td>2018-09-21</td>\n",
       "      <td>13.80</td>\n",
       "      <td>1000</td>\n",
       "    </tr>\n",
       "    <tr>\n",
       "      <td>4</td>\n",
       "      <td>1000_4</td>\n",
       "      <td>2018-12-15</td>\n",
       "      <td>5.18</td>\n",
       "      <td>1000</td>\n",
       "    </tr>\n",
       "  </tbody>\n",
       "</table>\n",
       "</div>"
      ],
      "text/plain": [
       "       id   call_date  duration  user_id\n",
       "0  1000_0  2018-07-25      0.00     1000\n",
       "1  1000_1  2018-08-17      0.00     1000\n",
       "2  1000_2  2018-06-11      2.85     1000\n",
       "3  1000_3  2018-09-21     13.80     1000\n",
       "4  1000_4  2018-12-15      5.18     1000"
      ]
     },
     "metadata": {},
     "output_type": "display_data"
    },
    {
     "name": "stdout",
     "output_type": "stream",
     "text": [
      "<class 'pandas.core.frame.DataFrame'>\n",
      "RangeIndex: 202607 entries, 0 to 202606\n",
      "Data columns (total 4 columns):\n",
      "id           202607 non-null object\n",
      "call_date    202607 non-null object\n",
      "duration     202607 non-null float64\n",
      "user_id      202607 non-null int64\n",
      "dtypes: float64(1), int64(1), object(2)\n",
      "memory usage: 6.2+ MB\n"
     ]
    }
   ],
   "source": [
    "calls = pd.read_csv('/datasets/calls.csv')\n",
    "display(calls.head())\n",
    "calls.info()"
   ]
  },
  {
   "cell_type": "code",
   "execution_count": 4,
   "metadata": {},
   "outputs": [
    {
     "data": {
      "text/html": [
       "<div>\n",
       "<style scoped>\n",
       "    .dataframe tbody tr th:only-of-type {\n",
       "        vertical-align: middle;\n",
       "    }\n",
       "\n",
       "    .dataframe tbody tr th {\n",
       "        vertical-align: top;\n",
       "    }\n",
       "\n",
       "    .dataframe thead th {\n",
       "        text-align: right;\n",
       "    }\n",
       "</style>\n",
       "<table border=\"1\" class=\"dataframe\">\n",
       "  <thead>\n",
       "    <tr style=\"text-align: right;\">\n",
       "      <th></th>\n",
       "      <th>id</th>\n",
       "      <th>message_date</th>\n",
       "      <th>user_id</th>\n",
       "    </tr>\n",
       "  </thead>\n",
       "  <tbody>\n",
       "    <tr>\n",
       "      <td>0</td>\n",
       "      <td>1000_0</td>\n",
       "      <td>2018-06-27</td>\n",
       "      <td>1000</td>\n",
       "    </tr>\n",
       "    <tr>\n",
       "      <td>1</td>\n",
       "      <td>1000_1</td>\n",
       "      <td>2018-10-08</td>\n",
       "      <td>1000</td>\n",
       "    </tr>\n",
       "    <tr>\n",
       "      <td>2</td>\n",
       "      <td>1000_2</td>\n",
       "      <td>2018-08-04</td>\n",
       "      <td>1000</td>\n",
       "    </tr>\n",
       "    <tr>\n",
       "      <td>3</td>\n",
       "      <td>1000_3</td>\n",
       "      <td>2018-06-16</td>\n",
       "      <td>1000</td>\n",
       "    </tr>\n",
       "    <tr>\n",
       "      <td>4</td>\n",
       "      <td>1000_4</td>\n",
       "      <td>2018-12-05</td>\n",
       "      <td>1000</td>\n",
       "    </tr>\n",
       "  </tbody>\n",
       "</table>\n",
       "</div>"
      ],
      "text/plain": [
       "       id message_date  user_id\n",
       "0  1000_0   2018-06-27     1000\n",
       "1  1000_1   2018-10-08     1000\n",
       "2  1000_2   2018-08-04     1000\n",
       "3  1000_3   2018-06-16     1000\n",
       "4  1000_4   2018-12-05     1000"
      ]
     },
     "metadata": {},
     "output_type": "display_data"
    },
    {
     "name": "stdout",
     "output_type": "stream",
     "text": [
      "<class 'pandas.core.frame.DataFrame'>\n",
      "RangeIndex: 123036 entries, 0 to 123035\n",
      "Data columns (total 3 columns):\n",
      "id              123036 non-null object\n",
      "message_date    123036 non-null object\n",
      "user_id         123036 non-null int64\n",
      "dtypes: int64(1), object(2)\n",
      "memory usage: 2.8+ MB\n"
     ]
    }
   ],
   "source": [
    "messages = pd.read_csv('/datasets/messages.csv')\n",
    "display(messages.head())\n",
    "messages.info()"
   ]
  },
  {
   "cell_type": "code",
   "execution_count": 5,
   "metadata": {},
   "outputs": [
    {
     "data": {
      "text/html": [
       "<div>\n",
       "<style scoped>\n",
       "    .dataframe tbody tr th:only-of-type {\n",
       "        vertical-align: middle;\n",
       "    }\n",
       "\n",
       "    .dataframe tbody tr th {\n",
       "        vertical-align: top;\n",
       "    }\n",
       "\n",
       "    .dataframe thead th {\n",
       "        text-align: right;\n",
       "    }\n",
       "</style>\n",
       "<table border=\"1\" class=\"dataframe\">\n",
       "  <thead>\n",
       "    <tr style=\"text-align: right;\">\n",
       "      <th></th>\n",
       "      <th>Unnamed: 0</th>\n",
       "      <th>id</th>\n",
       "      <th>mb_used</th>\n",
       "      <th>session_date</th>\n",
       "      <th>user_id</th>\n",
       "    </tr>\n",
       "  </thead>\n",
       "  <tbody>\n",
       "    <tr>\n",
       "      <td>0</td>\n",
       "      <td>0</td>\n",
       "      <td>1000_0</td>\n",
       "      <td>112.95</td>\n",
       "      <td>2018-11-25</td>\n",
       "      <td>1000</td>\n",
       "    </tr>\n",
       "    <tr>\n",
       "      <td>1</td>\n",
       "      <td>1</td>\n",
       "      <td>1000_1</td>\n",
       "      <td>1052.81</td>\n",
       "      <td>2018-09-07</td>\n",
       "      <td>1000</td>\n",
       "    </tr>\n",
       "    <tr>\n",
       "      <td>2</td>\n",
       "      <td>2</td>\n",
       "      <td>1000_2</td>\n",
       "      <td>1197.26</td>\n",
       "      <td>2018-06-25</td>\n",
       "      <td>1000</td>\n",
       "    </tr>\n",
       "    <tr>\n",
       "      <td>3</td>\n",
       "      <td>3</td>\n",
       "      <td>1000_3</td>\n",
       "      <td>550.27</td>\n",
       "      <td>2018-08-22</td>\n",
       "      <td>1000</td>\n",
       "    </tr>\n",
       "    <tr>\n",
       "      <td>4</td>\n",
       "      <td>4</td>\n",
       "      <td>1000_4</td>\n",
       "      <td>302.56</td>\n",
       "      <td>2018-09-24</td>\n",
       "      <td>1000</td>\n",
       "    </tr>\n",
       "  </tbody>\n",
       "</table>\n",
       "</div>"
      ],
      "text/plain": [
       "   Unnamed: 0      id  mb_used session_date  user_id\n",
       "0           0  1000_0   112.95   2018-11-25     1000\n",
       "1           1  1000_1  1052.81   2018-09-07     1000\n",
       "2           2  1000_2  1197.26   2018-06-25     1000\n",
       "3           3  1000_3   550.27   2018-08-22     1000\n",
       "4           4  1000_4   302.56   2018-09-24     1000"
      ]
     },
     "metadata": {},
     "output_type": "display_data"
    },
    {
     "name": "stdout",
     "output_type": "stream",
     "text": [
      "<class 'pandas.core.frame.DataFrame'>\n",
      "Int64Index: 149396 entries, 0 to 149395\n",
      "Data columns (total 4 columns):\n",
      "id              149396 non-null object\n",
      "mb_used         149396 non-null float64\n",
      "session_date    149396 non-null object\n",
      "user_id         149396 non-null int64\n",
      "dtypes: float64(1), int64(1), object(2)\n",
      "memory usage: 5.7+ MB\n"
     ]
    }
   ],
   "source": [
    "internet = pd.read_csv('/datasets/internet.csv')\n",
    "display(internet.head())\n",
    "internet = internet.set_index('Unnamed: 0')\n",
    "internet.info()"
   ]
  },
  {
   "cell_type": "code",
   "execution_count": 6,
   "metadata": {},
   "outputs": [
    {
     "data": {
      "text/html": [
       "<div>\n",
       "<style scoped>\n",
       "    .dataframe tbody tr th:only-of-type {\n",
       "        vertical-align: middle;\n",
       "    }\n",
       "\n",
       "    .dataframe tbody tr th {\n",
       "        vertical-align: top;\n",
       "    }\n",
       "\n",
       "    .dataframe thead th {\n",
       "        text-align: right;\n",
       "    }\n",
       "</style>\n",
       "<table border=\"1\" class=\"dataframe\">\n",
       "  <thead>\n",
       "    <tr style=\"text-align: right;\">\n",
       "      <th></th>\n",
       "      <th>messages_included</th>\n",
       "      <th>mb_per_month_included</th>\n",
       "      <th>minutes_included</th>\n",
       "      <th>rub_monthly_fee</th>\n",
       "      <th>rub_per_gb</th>\n",
       "      <th>rub_per_message</th>\n",
       "      <th>rub_per_minute</th>\n",
       "    </tr>\n",
       "    <tr>\n",
       "      <th>tariff_name</th>\n",
       "      <th></th>\n",
       "      <th></th>\n",
       "      <th></th>\n",
       "      <th></th>\n",
       "      <th></th>\n",
       "      <th></th>\n",
       "      <th></th>\n",
       "    </tr>\n",
       "  </thead>\n",
       "  <tbody>\n",
       "    <tr>\n",
       "      <td>smart</td>\n",
       "      <td>50</td>\n",
       "      <td>15360</td>\n",
       "      <td>500</td>\n",
       "      <td>550</td>\n",
       "      <td>200</td>\n",
       "      <td>3</td>\n",
       "      <td>3</td>\n",
       "    </tr>\n",
       "    <tr>\n",
       "      <td>ultra</td>\n",
       "      <td>1000</td>\n",
       "      <td>30720</td>\n",
       "      <td>3000</td>\n",
       "      <td>1950</td>\n",
       "      <td>150</td>\n",
       "      <td>1</td>\n",
       "      <td>1</td>\n",
       "    </tr>\n",
       "  </tbody>\n",
       "</table>\n",
       "</div>"
      ],
      "text/plain": [
       "             messages_included  mb_per_month_included  minutes_included  \\\n",
       "tariff_name                                                               \n",
       "smart                       50                  15360               500   \n",
       "ultra                     1000                  30720              3000   \n",
       "\n",
       "             rub_monthly_fee  rub_per_gb  rub_per_message  rub_per_minute  \n",
       "tariff_name                                                                \n",
       "smart                    550         200                3               3  \n",
       "ultra                   1950         150                1               1  "
      ]
     },
     "metadata": {},
     "output_type": "display_data"
    },
    {
     "name": "stdout",
     "output_type": "stream",
     "text": [
      "<class 'pandas.core.frame.DataFrame'>\n",
      "Index: 2 entries, smart to ultra\n",
      "Data columns (total 7 columns):\n",
      "messages_included        2 non-null int64\n",
      "mb_per_month_included    2 non-null int64\n",
      "minutes_included         2 non-null int64\n",
      "rub_monthly_fee          2 non-null int64\n",
      "rub_per_gb               2 non-null int64\n",
      "rub_per_message          2 non-null int64\n",
      "rub_per_minute           2 non-null int64\n",
      "dtypes: int64(7)\n",
      "memory usage: 128.0+ bytes\n"
     ]
    }
   ],
   "source": [
    "tariffs = pd.read_csv('/datasets/tariffs.csv')\n",
    "tariffs = tariffs.set_index('tariff_name')\n",
    "display(tariffs.head())\n",
    "tariffs.info()"
   ]
  },
  {
   "cell_type": "markdown",
   "metadata": {},
   "source": [
    "В данном блоке были подключены необходимые библиотеки и изучены данные в таблицах и типы полей"
   ]
  },
  {
   "cell_type": "markdown",
   "metadata": {},
   "source": [
    "## 2 \n",
    "# Обработка данных"
   ]
  },
  {
   "cell_type": "code",
   "execution_count": 7,
   "metadata": {},
   "outputs": [],
   "source": [
    "# выделение звонков с длительностью не 0 и округление в большую сторону на 1\n",
    "calls = calls.query('duration != 0')\n",
    "calls.loc[calls['duration'] % 1 > 0, 'duration'] = (calls.loc[calls['duration'] % 1 > 0, 'duration'] + 1)\n",
    "calls['duration'] = calls['duration'].astype('int')\n",
    "\n",
    "# создание поля со значением месяцев\n",
    "calls['call_date'] = pd.to_datetime(calls['call_date'])\n",
    "calls['month'] = calls['call_date'].dt.month\n",
    "\n",
    "#calls_m = calls.groupby(['user_id', 'month'])['duration'].sum()\n",
    "calls_m = calls.pivot_table(index=['user_id', 'month'], values = 'duration', aggfunc = 'sum')"
   ]
  },
  {
   "cell_type": "code",
   "execution_count": 8,
   "metadata": {},
   "outputs": [],
   "source": [
    "# создание поля со значением месяцев\n",
    "messages['message_date'] = pd.to_datetime(messages['message_date'])\n",
    "messages['month'] = messages['message_date'].dt.month\n",
    "\n",
    "#messages_m = messages.groupby(['user_id', 'month'])['message_date'].count()\n",
    "messages_m = messages.pivot_table(index=['user_id', 'month'], values = 'message_date', aggfunc = 'count')"
   ]
  },
  {
   "cell_type": "code",
   "execution_count": 9,
   "metadata": {},
   "outputs": [],
   "source": [
    "# выделение расхода трафика не 0\n",
    "internet = internet.query('mb_used != 0')\n",
    "internet.loc[internet['mb_used'] % 1 > 0, 'mb_used'] = (internet.loc[internet['mb_used'] % 1 > 0, 'mb_used'] + 1)\n",
    "internet['mb_used'] = internet['mb_used'].astype('int')\n",
    "\n",
    "# создание поля со значением месяцев\n",
    "internet['session_date'] = pd.to_datetime(internet['session_date'])\n",
    "internet['month'] = internet['session_date'].dt.month\n",
    "\n",
    "#internet_m = internet.groupby(['user_id', 'month'])['mb_used'].sum()\n",
    "internet_m = internet.pivot_table(index=['user_id', 'month'], values = 'mb_used', aggfunc = 'sum')"
   ]
  },
  {
   "cell_type": "code",
   "execution_count": 10,
   "metadata": {},
   "outputs": [
    {
     "data": {
      "text/html": [
       "<div>\n",
       "<style scoped>\n",
       "    .dataframe tbody tr th:only-of-type {\n",
       "        vertical-align: middle;\n",
       "    }\n",
       "\n",
       "    .dataframe tbody tr th {\n",
       "        vertical-align: top;\n",
       "    }\n",
       "\n",
       "    .dataframe thead th {\n",
       "        text-align: right;\n",
       "    }\n",
       "</style>\n",
       "<table border=\"1\" class=\"dataframe\">\n",
       "  <thead>\n",
       "    <tr style=\"text-align: right;\">\n",
       "      <th></th>\n",
       "      <th></th>\n",
       "      <th>minutes_spoke</th>\n",
       "      <th>mb_used</th>\n",
       "      <th>message_wrote</th>\n",
       "      <th>tariff_name</th>\n",
       "      <th>messages_included</th>\n",
       "      <th>mb_per_month_included</th>\n",
       "      <th>minutes_included</th>\n",
       "      <th>rub_monthly_fee</th>\n",
       "      <th>rub_per_gb</th>\n",
       "      <th>rub_per_message</th>\n",
       "      <th>rub_per_minute</th>\n",
       "    </tr>\n",
       "    <tr>\n",
       "      <th>user_id</th>\n",
       "      <th>month</th>\n",
       "      <th></th>\n",
       "      <th></th>\n",
       "      <th></th>\n",
       "      <th></th>\n",
       "      <th></th>\n",
       "      <th></th>\n",
       "      <th></th>\n",
       "      <th></th>\n",
       "      <th></th>\n",
       "      <th></th>\n",
       "      <th></th>\n",
       "    </tr>\n",
       "  </thead>\n",
       "  <tbody>\n",
       "    <tr>\n",
       "      <td rowspan=\"5\" valign=\"top\">1000</td>\n",
       "      <td>5</td>\n",
       "      <td>159.0</td>\n",
       "      <td>2256.0</td>\n",
       "      <td>22.0</td>\n",
       "      <td>ultra</td>\n",
       "      <td>1000</td>\n",
       "      <td>30720</td>\n",
       "      <td>3000</td>\n",
       "      <td>1950</td>\n",
       "      <td>150</td>\n",
       "      <td>1</td>\n",
       "      <td>1</td>\n",
       "    </tr>\n",
       "    <tr>\n",
       "      <td>6</td>\n",
       "      <td>172.0</td>\n",
       "      <td>23257.0</td>\n",
       "      <td>60.0</td>\n",
       "      <td>ultra</td>\n",
       "      <td>1000</td>\n",
       "      <td>30720</td>\n",
       "      <td>3000</td>\n",
       "      <td>1950</td>\n",
       "      <td>150</td>\n",
       "      <td>1</td>\n",
       "      <td>1</td>\n",
       "    </tr>\n",
       "    <tr>\n",
       "      <td>7</td>\n",
       "      <td>340.0</td>\n",
       "      <td>14016.0</td>\n",
       "      <td>75.0</td>\n",
       "      <td>ultra</td>\n",
       "      <td>1000</td>\n",
       "      <td>30720</td>\n",
       "      <td>3000</td>\n",
       "      <td>1950</td>\n",
       "      <td>150</td>\n",
       "      <td>1</td>\n",
       "      <td>1</td>\n",
       "    </tr>\n",
       "    <tr>\n",
       "      <td>8</td>\n",
       "      <td>408.0</td>\n",
       "      <td>14070.0</td>\n",
       "      <td>81.0</td>\n",
       "      <td>ultra</td>\n",
       "      <td>1000</td>\n",
       "      <td>30720</td>\n",
       "      <td>3000</td>\n",
       "      <td>1950</td>\n",
       "      <td>150</td>\n",
       "      <td>1</td>\n",
       "      <td>1</td>\n",
       "    </tr>\n",
       "    <tr>\n",
       "      <td>9</td>\n",
       "      <td>466.0</td>\n",
       "      <td>14581.0</td>\n",
       "      <td>57.0</td>\n",
       "      <td>ultra</td>\n",
       "      <td>1000</td>\n",
       "      <td>30720</td>\n",
       "      <td>3000</td>\n",
       "      <td>1950</td>\n",
       "      <td>150</td>\n",
       "      <td>1</td>\n",
       "      <td>1</td>\n",
       "    </tr>\n",
       "  </tbody>\n",
       "</table>\n",
       "</div>"
      ],
      "text/plain": [
       "               minutes_spoke  mb_used  message_wrote tariff_name  \\\n",
       "user_id month                                                      \n",
       "1000    5              159.0   2256.0           22.0       ultra   \n",
       "        6              172.0  23257.0           60.0       ultra   \n",
       "        7              340.0  14016.0           75.0       ultra   \n",
       "        8              408.0  14070.0           81.0       ultra   \n",
       "        9              466.0  14581.0           57.0       ultra   \n",
       "\n",
       "               messages_included  mb_per_month_included  minutes_included  \\\n",
       "user_id month                                                               \n",
       "1000    5                   1000                  30720              3000   \n",
       "        6                   1000                  30720              3000   \n",
       "        7                   1000                  30720              3000   \n",
       "        8                   1000                  30720              3000   \n",
       "        9                   1000                  30720              3000   \n",
       "\n",
       "               rub_monthly_fee  rub_per_gb  rub_per_message  rub_per_minute  \n",
       "user_id month                                                                \n",
       "1000    5                 1950         150                1               1  \n",
       "        6                 1950         150                1               1  \n",
       "        7                 1950         150                1               1  \n",
       "        8                 1950         150                1               1  \n",
       "        9                 1950         150                1               1  "
      ]
     },
     "metadata": {},
     "output_type": "display_data"
    }
   ],
   "source": [
    "# объединение таблиц в 1 с мультииндексом user_id и month для дальнейшей обработки\n",
    "data = calls_m.join(internet_m, how = 'outer' )\n",
    "data = data.join(messages_m, how = 'outer')\n",
    "data = data.fillna(0)\n",
    "data = data.join(users['tariff'], on = 'user_id')\n",
    "data.columns = ['minutes_spoke', 'mb_used', 'message_wrote', 'tariff_name' ]\n",
    "data = data.join(tariffs, on ='tariff_name')\n",
    "display(data.head())"
   ]
  },
  {
   "cell_type": "code",
   "execution_count": 11,
   "metadata": {},
   "outputs": [],
   "source": [
    "def income_func(row):\n",
    "    income = row['rub_monthly_fee']\n",
    "    if row['minutes_spoke'] > row['minutes_included']:\n",
    "        income = income + (row['minutes_spoke'] - row['minutes_included']) * row['rub_per_minute']\n",
    "    if row['mb_used'] > row['mb_per_month_included']:\n",
    "        income = income + math.ceil((row['mb_used'] - row['mb_per_month_included']) / 1024) * row['rub_per_gb']\n",
    "    if row['message_wrote'] > row['messages_included']:\n",
    "        income = income + (row['message_wrote'] - row['messages_included']) * row['rub_per_message']\n",
    "    return income\n",
    "\n",
    "data['total_income'] = data.apply(income_func, axis = 1)"
   ]
  },
  {
   "cell_type": "markdown",
   "metadata": {},
   "source": [
    "Из таблицы звонков были удалены записи с продолжительностью 0 секунд, по причине того, что они не используются в расчетах, так как такие звонки бесплатны. Я их связываю с тем, что многие люди скидывают свой звонок с расчетом на то, что им перезвонят, люди не хотят тратить бесплатные минуты или выходить, перплачивать за тариф."
   ]
  },
  {
   "cell_type": "markdown",
   "metadata": {},
   "source": [
    "По итогам обработки данных была получена таблица data с данными об использовании пользователями ресурсов мобильного оператора по тарифам ultra и smart. Была получена ежемесячная выручка с каждого пользователя."
   ]
  },
  {
   "cell_type": "markdown",
   "metadata": {},
   "source": [
    "## 3 \n",
    "# Анализ данных"
   ]
  },
  {
   "cell_type": "code",
   "execution_count": 12,
   "metadata": {},
   "outputs": [
    {
     "data": {
      "text/html": [
       "<div>\n",
       "<style scoped>\n",
       "    .dataframe tbody tr th:only-of-type {\n",
       "        vertical-align: middle;\n",
       "    }\n",
       "\n",
       "    .dataframe tbody tr th {\n",
       "        vertical-align: top;\n",
       "    }\n",
       "\n",
       "    .dataframe thead th {\n",
       "        text-align: right;\n",
       "    }\n",
       "</style>\n",
       "<table border=\"1\" class=\"dataframe\">\n",
       "  <thead>\n",
       "    <tr style=\"text-align: right;\">\n",
       "      <th></th>\n",
       "      <th>minutes_spoke</th>\n",
       "      <th>mb_used</th>\n",
       "      <th>message_wrote</th>\n",
       "      <th>minutes_variance</th>\n",
       "      <th>mb_variance</th>\n",
       "      <th>message_variance</th>\n",
       "      <th>minutes_std</th>\n",
       "      <th>mb_std</th>\n",
       "      <th>message_std</th>\n",
       "    </tr>\n",
       "    <tr>\n",
       "      <th>tariff_name</th>\n",
       "      <th></th>\n",
       "      <th></th>\n",
       "      <th></th>\n",
       "      <th></th>\n",
       "      <th></th>\n",
       "      <th></th>\n",
       "      <th></th>\n",
       "      <th></th>\n",
       "      <th></th>\n",
       "    </tr>\n",
       "  </thead>\n",
       "  <tbody>\n",
       "    <tr>\n",
       "      <td>smart</td>\n",
       "      <td>417.93</td>\n",
       "      <td>16229.19</td>\n",
       "      <td>33.38</td>\n",
       "      <td>36203.07</td>\n",
       "      <td>3.453041e+07</td>\n",
       "      <td>796.46</td>\n",
       "      <td>190.27</td>\n",
       "      <td>5876.26</td>\n",
       "      <td>28.22</td>\n",
       "    </tr>\n",
       "    <tr>\n",
       "      <td>ultra</td>\n",
       "      <td>526.62</td>\n",
       "      <td>19486.90</td>\n",
       "      <td>49.36</td>\n",
       "      <td>100771.22</td>\n",
       "      <td>1.018321e+08</td>\n",
       "      <td>2282.95</td>\n",
       "      <td>317.44</td>\n",
       "      <td>10091.19</td>\n",
       "      <td>47.78</td>\n",
       "    </tr>\n",
       "  </tbody>\n",
       "</table>\n",
       "</div>"
      ],
      "text/plain": [
       "             minutes_spoke   mb_used  message_wrote  minutes_variance  \\\n",
       "tariff_name                                                             \n",
       "smart               417.93  16229.19          33.38          36203.07   \n",
       "ultra               526.62  19486.90          49.36         100771.22   \n",
       "\n",
       "              mb_variance  message_variance  minutes_std    mb_std  \\\n",
       "tariff_name                                                          \n",
       "smart        3.453041e+07            796.46       190.27   5876.26   \n",
       "ultra        1.018321e+08           2282.95       317.44  10091.19   \n",
       "\n",
       "             message_std  \n",
       "tariff_name               \n",
       "smart              28.22  \n",
       "ultra              47.78  "
      ]
     },
     "metadata": {},
     "output_type": "display_data"
    }
   ],
   "source": [
    "#получение выборок по каждому тарифу\n",
    "ultra_data = data.query('tariff_name == \"ultra\"')\n",
    "smart_data = data.query('tariff_name == \"smart\"')\n",
    "\n",
    "#таблица со средним значением полей\n",
    "mean_data = data.groupby('tariff_name')[['minutes_spoke', 'mb_used', 'message_wrote']].mean()\n",
    "\n",
    "#расчеты дисперсии\n",
    "minutes_variance_ultra = np.var(ultra_data['minutes_spoke'])\n",
    "mb_variance_ultra = np.var(ultra_data['mb_used'])\n",
    "message_variance_ultra = np.var(ultra_data['message_wrote'])\n",
    "minutes_variance_smart = np.var(smart_data['minutes_spoke'])\n",
    "mb_variance_smart = np.var(smart_data['mb_used'])\n",
    "message_variance_smart = np.var(smart_data['message_wrote'])\n",
    "\n",
    "#добавление полей о дисперсии и стандартного отклонения в mean_data\n",
    "mean_data['minutes_variance'] = [minutes_variance_smart, minutes_variance_ultra]\n",
    "mean_data['mb_variance'] = [mb_variance_smart, mb_variance_ultra]\n",
    "mean_data['message_variance'] = [message_variance_smart, message_variance_ultra]\n",
    "mean_data['minutes_std'] = [math.sqrt(minutes_variance_smart), math.sqrt(minutes_variance_ultra)]\n",
    "mean_data['mb_std'] = [math.sqrt(mb_variance_smart), math.sqrt(mb_variance_ultra)]\n",
    "mean_data['message_std'] = [math.sqrt(message_variance_smart), math.sqrt(message_variance_ultra)]\n",
    "\n",
    "mean_data = round(mean_data,2)\n",
    "\n",
    "display(mean_data)"
   ]
  },
  {
   "cell_type": "markdown",
   "metadata": {},
   "source": [
    "Получена таблица с информацией о среднем, дисперсии и стандартном отклонении полей minutes_spoke, mb_used, message_wrote для 2 тарифов отдельно. Из этой таблицы можно сделать вывод, что пользователи тарифа ultra пользуются мобильным оператором чаще других, но это и понятно, так как они получают больше бесплатных минут, мбайт и сообщений, хоть и платят больше."
   ]
  },
  {
   "cell_type": "code",
   "execution_count": 13,
   "metadata": {},
   "outputs": [
    {
     "data": {
      "image/png": "[encoded data removed]",
      "text/plain": [
       "<Figure size 432x288 with 1 Axes>"
      ]
     },
     "metadata": {
      "needs_background": "light"
     },
     "output_type": "display_data"
    },
    {
     "data": {
      "image/png": "[encoded data removed]",
      "text/plain": [
       "<Figure size 432x288 with 1 Axes>"
      ]
     },
     "metadata": {
      "needs_background": "light"
     },
     "output_type": "display_data"
    }
   ],
   "source": [
    "# получение гистограммы и диаграммы размаха для 2 тарифов по длительности разговора\n",
    "ax =  sns.distplot(smart_data['minutes_spoke'], hist = True)\n",
    "sns.distplot(ultra_data['minutes_spoke'], ax = ax, axlabel ='Длительность разговора')\n",
    "plt.title('Гистограммы длительности разговора')\n",
    "plt.legend(labels = ['smart', 'ultra'])\n",
    "plt.show()\n",
    "sns.boxplot(data = data, x ='tariff_name', y = 'minutes_spoke', palette = 'rainbow' )\n",
    "plt.title('Диаграммы размаха длительности разговора')\n",
    "plt.xlabel('Тариф')\n",
    "plt.ylabel('Длительность разговора')\n",
    "plt.show()"
   ]
  },
  {
   "cell_type": "markdown",
   "metadata": {},
   "source": [
    "Из диаграммы размаха и гистограммы по длительности разговора делаем вывод, что разброс длительности у пользователей тарифа ultra шире и медиана больше, чем у smart."
   ]
  },
  {
   "cell_type": "code",
   "execution_count": 14,
   "metadata": {},
   "outputs": [
    {
     "data": {
      "image/png": "[encoded data removed]",
      "text/plain": [
       "<Figure size 432x288 with 1 Axes>"
      ]
     },
     "metadata": {
      "needs_background": "light"
     },
     "output_type": "display_data"
    },
    {
     "data": {
      "image/png": "[encoded data removed]",
      "text/plain": [
       "<Figure size 432x288 with 1 Axes>"
      ]
     },
     "metadata": {
      "needs_background": "light"
     },
     "output_type": "display_data"
    }
   ],
   "source": [
    "# получение гистограммы и диаграммы размаха для 2 тарифов по интернет-трафику\n",
    "ax =  sns.distplot(smart_data['mb_used'], hist = True)\n",
    "sns.distplot(ultra_data['mb_used'], ax = ax, axlabel ='Использованный трафик')\n",
    "plt.title('Гистограммы расхода трафика')\n",
    "plt.legend(labels = ['smart', 'ultra'])\n",
    "plt.show()\n",
    "sns.boxplot(data = data, x ='tariff_name', y = 'mb_used', palette = 'rainbow'  )\n",
    "plt.title('Диаграммы размаха расхода трафика')\n",
    "plt.xlabel('Тариф')\n",
    "plt.ylabel('Использованный трафик')\n",
    "plt.show()"
   ]
  },
  {
   "cell_type": "markdown",
   "metadata": {},
   "source": [
    "Из диаграммы размаха и гистограммы по расходу трафика делаем вывод, что у пользователеи тарифа ultra сидят в интернете дольше, это видно из медианы и расположению самих коробок. Кроме этого, видно что у пользователей тарифа smart диапозон значений не такой большой как у пользователей ultra."
   ]
  },
  {
   "cell_type": "code",
   "execution_count": 15,
   "metadata": {},
   "outputs": [
    {
     "data": {
      "image/png": "[encoded data removed]",
      "text/plain": [
       "<Figure size 432x288 with 1 Axes>"
      ]
     },
     "metadata": {
      "needs_background": "light"
     },
     "output_type": "display_data"
    },
    {
     "data": {
      "image/png": "[encoded data removed]",
      "text/plain": [
       "<Figure size 432x288 with 1 Axes>"
      ]
     },
     "metadata": {
      "needs_background": "light"
     },
     "output_type": "display_data"
    }
   ],
   "source": [
    "# получение гистограммы и диаграммы размаха для 2 тарифов по количеству сообщений\n",
    "ax =  sns.distplot(smart_data['message_wrote'], hist = True)\n",
    "sns.distplot(ultra_data['message_wrote'], ax = ax, axlabel ='Написано сообщений')\n",
    "plt.title('Гистограммы отправки сообщений')\n",
    "plt.legend(labels = ['smart', 'ultra'])\n",
    "plt.show()\n",
    "sns.boxplot(data = data, x ='tariff_name', y = 'message_wrote', palette = 'rainbow'  )\n",
    "plt.title('Диаграммы размаха отравки сообщений')\n",
    "plt.xlabel('Тариф')\n",
    "plt.ylabel('Написано сообщений')\n",
    "plt.show()"
   ]
  },
  {
   "cell_type": "markdown",
   "metadata": {},
   "source": [
    "Из диаграммы размаха и гистограммы по количеству сообщений получаем, что в обоих тарифах есть пользователи, которые почти не переписываются, это видно из того, что коробка почти стоит на 0 отметке. Но нельзя не отметить, что у части пользователей тарифа ultra  количество сообщений превышает 150, когда у ползователей smart чуть больше 100."
   ]
  },
  {
   "cell_type": "code",
   "execution_count": 16,
   "metadata": {},
   "outputs": [
    {
     "data": {
      "image/png": "[encoded data removed]",
      "text/plain": [
       "<Figure size 360x360 with 1 Axes>"
      ]
     },
     "metadata": {
      "needs_background": "light"
     },
     "output_type": "display_data"
    }
   ],
   "source": [
    "sns.catplot(x = 'tariff_name', y = 'total_income', kind = 'bar', data = data, palette = 'rainbow' )\n",
    "plt.title('Столбчатые диаграммы среденй выручки с тарифов в месяц')\n",
    "plt.xlabel('Тариф')\n",
    "plt.ylabel('Выручка')\n",
    "plt.show()"
   ]
  },
  {
   "cell_type": "markdown",
   "metadata": {},
   "source": [
    "Из столбчатых диаграмм были получены данные, по которым можно увидеть, что пользователи тарифа smart выходят за рамки тарифа очень часто, они платят больше чем 2 ежемесячной оплаты тарифа. Когда пользователи ultra  если выходят из тарифа, то не больше чем на 100 - 200 реблей."
   ]
  },
  {
   "cell_type": "markdown",
   "metadata": {},
   "source": [
    "## 4\n",
    "# Проверка гипотез"
   ]
  },
  {
   "cell_type": "markdown",
   "metadata": {},
   "source": [
    "#### Гипотеза - средняя выручка пользователей тарифов «Ультра» и «Смарт» различается."
   ]
  },
  {
   "cell_type": "markdown",
   "metadata": {},
   "source": [
    "Нулевая гипотеза: средняя выручка тарифов «Ультра» и «Смарт» одинакова."
   ]
  },
  {
   "cell_type": "code",
   "execution_count": 17,
   "metadata": {},
   "outputs": [
    {
     "name": "stdout",
     "output_type": "stream",
     "text": [
      "Дисперсия smart -  673628.974426787\n",
      "Дисперсия ultra -  143345.5641732588\n"
     ]
    }
   ],
   "source": [
    "# сравнени дисперсий выручки с тарифов\n",
    "smart_variance = np.var(smart_data['total_income']) \n",
    "ultra_variance = np.var(ultra_data['total_income']) \n",
    "print('Дисперсия smart - ', smart_variance)\n",
    "print('Дисперсия ultra - ', ultra_variance)"
   ]
  },
  {
   "cell_type": "markdown",
   "metadata": {},
   "source": [
    "Дисперсии выборок считать равными нельзя. Следовательно, equal_var = False."
   ]
  },
  {
   "cell_type": "code",
   "execution_count": 18,
   "metadata": {},
   "outputs": [
    {
     "name": "stdout",
     "output_type": "stream",
     "text": [
      "p-значение: 2.7240946993530856e-246\n",
      "Отвергаем нулевую гипотезу\n"
     ]
    }
   ],
   "source": [
    "#cоздание 2 выборок по тарифам\n",
    "\n",
    "\n",
    "# критический уровень статистической значимости\n",
    "# если p-value окажется меньше него - отвергнем гипотезу\n",
    "alpha = 0.05\n",
    "\n",
    "results = st.ttest_ind(smart_data['total_income'], ultra_data['total_income'], equal_var = False)\n",
    "\n",
    "print('p-значение:', results.pvalue)\n",
    "\n",
    "if (results.pvalue < alpha):\n",
    "    print('Отвергаем нулевую гипотезу')\n",
    "else:\n",
    "    print('Не получилось отвергнуть нулевую гипотезу')"
   ]
  },
  {
   "cell_type": "markdown",
   "metadata": {},
   "source": [
    "Отвергам гипотезу: средняя выручка тарифов «Ультра» и «Смарт» одинакова."
   ]
  },
  {
   "cell_type": "markdown",
   "metadata": {},
   "source": [
    "#### Гипотеза - средняя выручка пользователей из Москвы отличается от выручки пользователей из других регионов."
   ]
  },
  {
   "cell_type": "markdown",
   "metadata": {},
   "source": [
    "Нулевая гипотеза: средняя выручка пользователей из Москвы и пользователей из других регионов однаковы."
   ]
  },
  {
   "cell_type": "code",
   "execution_count": 19,
   "metadata": {},
   "outputs": [],
   "source": [
    "# получение данных о пользователях с информацией о городах\n",
    "data_city = data.join(users['city'], on ='user_id')\n",
    "\n",
    "# получение 2 выборок: по Москве, по другим городам\n",
    "data_city_moscow = data_city.query('city == \"Москва\"')\n",
    "data_city_other = data_city.query('city != \"Москва\"')"
   ]
  },
  {
   "cell_type": "code",
   "execution_count": 20,
   "metadata": {},
   "outputs": [
    {
     "name": "stdout",
     "output_type": "stream",
     "text": [
      "Дисперсия по Москве -  565256.3794161058\n",
      "Дисперсия по другим городам -  656514.2841040562\n"
     ]
    }
   ],
   "source": [
    "moscow_variance = np.var(data_city_moscow['total_income']) \n",
    "other_variance = np.var(data_city_other['total_income']) \n",
    "print('Дисперсия по Москве - ', moscow_variance)\n",
    "print('Дисперсия по другим городам - ', other_variance)"
   ]
  },
  {
   "cell_type": "markdown",
   "metadata": {},
   "source": [
    "Дисперсии выборок считать равными нельзя. Следовательно, equal_var = False"
   ]
  },
  {
   "cell_type": "code",
   "execution_count": 21,
   "metadata": {},
   "outputs": [
    {
     "name": "stdout",
     "output_type": "stream",
     "text": [
      "p-значение: 0.5126564657748214\n",
      "Не получилось отвергнуть нулевую гипотезу\n"
     ]
    }
   ],
   "source": [
    "# критический уровень статистической значимости\n",
    "# если p-value окажется меньше него - отвергнем гипотезу\n",
    "alpha = 0.05\n",
    "\n",
    "results = st.ttest_ind(data_city_moscow['total_income'], data_city_other['total_income'], equal_var = False)\n",
    "\n",
    "print('p-значение:', results.pvalue)\n",
    "\n",
    "if (results.pvalue < alpha):\n",
    "    print('Отвергаем нулевую гипотезу')\n",
    "else:\n",
    "    print('Не получилось отвергнуть нулевую гипотезу')"
   ]
  },
  {
   "cell_type": "markdown",
   "metadata": {},
   "source": [
    "P-значение равно 0.51, следовательно, мы не можем сказать отвергнуть гипотезу, что средняя выручка пользователей из Москвы и пользователей из других регионов однаковы. С вероятностью 50% различия выручки пользователей из Москвы и пользователей с других городов случайны."
   ]
  },
  {
   "cell_type": "markdown",
   "metadata": {},
   "source": [
    "## 5 \n",
    "# Вывод"
   ]
  },
  {
   "cell_type": "markdown",
   "metadata": {},
   "source": [
    "В ходе проекта были выполнены следующие пункты и получены результаты:\n",
    "    1. были подключены необходимые библиотеки и изучены данные в таблицах и типы полей\n",
    "    2. Из таблицы звонков были удалены записи с продолжительностью 0 секунд, по причине того, что они не используются в расчетах, так как такие звонки бесплатны. Я их связываю с тем, что многие люди скидывают свой звонок с расчетом на то, что им перезвонят, люди не хотят тратить бесплатные минуты или выходить, перплачивать за тариф\n",
    "    3. По итогам обработки данных была получена таблица data с данными об использовании пользователями ресурсов мобильного оператора по тарифам ultra и smart. Была получена ежемесячная выручка с каждого пользователя.\n",
    "    4. Получена таблица с информацией о среднем, дисперсии и стандартном отклонении полей minutes_spoke, mb_used, message_wrote для 2 тарифов отдельно. Из этой таблицы можно сделать вывод, что пользователи тарифа ultra пользуются мобильным оператором чаще других, но это и понятно, так как они получают больше бесплатных минут, мбайт и сообщений, хоть и платят больше.\n",
    "    5. Из диаграммы размаха и гистограммы по длительности разговора делаем вывод, что разброс длительности у пользователей тарифа ultra шире и медиана больше, чем у smart.\n",
    "    6. Из диаграммы размаха и гистограммы по расходу трафика делаем вывод, что у пользователеи тарифа ultra сидят в интернете дольше, это видно из медианы и расположению самих коробок. Кроме этого, видно что у пользователей тарифа smart диапозон значений не такой большой как у пользователей ultra\n",
    "    7. Из диаграммы размаха и гистограммы по количеству сообщений получаем, что в обоих тарифах есть пользователи, которые почти не переписываются, это видно из того, что коробка почти стоит на 0 отметке. Но нельзя не отметить, что у части пользователей тарифа ultra количество сообщений превышает 150, когда у ползователей smart чуть больше 100.\n",
    "    8. Из столбчатых диаграмм были получены данные, по которым можно увидеть, что пользователи тарифа smart выходят за рамки тарифа очень часто, они платят больше чем 2 ежемесячной оплаты тарифа. Когда пользователи ultra если выходят из тарифа, то не больше чем на 100 - 200 реблей.\n",
    "\n",
    "Гипотеза 1. Средняя выручка пользователей тарифов «Ультра» и «Смарт» различается:\n",
    "    1. Отвергам гипотезу: средняя выручка тарифов «Ультра» и «Смарт» одинакова\n",
    "Гипотеза 2. Средняя выручка пользователей из Москвы отличается от выручки пользователей из других регионов:\n",
    "    2. P-значение равно 0.51, следовательно, мы не можем сказать отвергнуть гипотезу, что средняя выручка пользователей из Москвы и пользователей из других регионов однаковы. С вероятностью 50% различия выручки пользователей из Москвы и пользователей с других городов случайны."
   ]
  }
 ],
 "metadata": {
  "kernelspec": {
   "display_name": "Python 3",
   "language": "python",
   "name": "python3"
  },
  "language_info": {
   "codemirror_mode": {
    "name": "ipython",
    "version": 3
   },
   "file_extension": ".py",
   "mimetype": "text/x-python",
   "name": "python",
   "nbconvert_exporter": "python",
   "pygments_lexer": "ipython3",
   "version": "3.7.8"
  },
  "toc": {
   "base_numbering": 1,
   "nav_menu": {},
   "number_sections": true,
   "sideBar": true,
   "skip_h1_title": false,
   "title_cell": "Table of Contents",
   "title_sidebar": "Contents",
   "toc_cell": false,
   "toc_position": {},
   "toc_section_display": true,
   "toc_window_display": false
  }
 },
 "nbformat": 4,
 "nbformat_minor": 2
}
