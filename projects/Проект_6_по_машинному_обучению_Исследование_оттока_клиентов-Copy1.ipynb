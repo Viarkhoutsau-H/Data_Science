{
 "cells": [
  {
   "cell_type": "markdown",
   "metadata": {},
   "source": [
    "# Отток клиентов"
   ]
  },
  {
   "cell_type": "markdown",
   "metadata": {},
   "source": [
    "Из «Бета-Банка» стали уходить клиенты. Каждый месяц. Немного, но заметно. Банковские маркетологи посчитали: сохранять текущих клиентов дешевле, чем привлекать новых.\n",
    "\n",
    "Нужно спрогнозировать, уйдёт клиент из банка в ближайшее время или нет. Вам предоставлены исторические данные о поведении клиентов и расторжении договоров с банком. \n",
    "\n",
    "Постройте модель с предельно большим значением *F1*-меры. Чтобы сдать проект успешно, нужно довести метрику до 0.59. Проверьте *F1*-меру на тестовой выборке самостоятельно.\n",
    "\n",
    "Дополнительно измеряйте *AUC-ROC*, сравнивайте её значение с *F1*-мерой.\n",
    "\n",
    "Источник данных: [https://www.kaggle.com/barelydedicated/bank-customer-churn-modeling](https://www.kaggle.com/barelydedicated/bank-customer-churn-modeling)"
   ]
  },
  {
   "cell_type": "markdown",
   "metadata": {},
   "source": [
    "Данные находятся в файле /datasets/Churn.csv"
   ]
  },
  {
   "cell_type": "raw",
   "metadata": {},
   "source": [
    "RowNumber — индекс строки в данных\n",
    "CustomerId — уникальный идентификатор клиента\n",
    "Surname — фамилия\n",
    "CreditScore — кредитный рейтинг\n",
    "Geography — страна проживания\n",
    "Gender — пол\n",
    "Age — возраст\n",
    "Tenure — количество недвижимости у клиента\n",
    "Balance — баланс на счёте\n",
    "NumOfProducts — количество продуктов банка, используемых клиентом\n",
    "HasCrCard — наличие кредитной карты\n",
    "IsActiveMember — активность клиента\n",
    "EstimatedSalary — предполагаемая зарплата\n",
    "\n",
    "Exited — факт ухода клиента"
   ]
  },
  {
   "cell_type": "markdown",
   "metadata": {},
   "source": [
    "# 1. Подготовка данных"
   ]
  },
  {
   "cell_type": "code",
   "execution_count": 261,
   "metadata": {},
   "outputs": [],
   "source": [
    "import pandas as pd\n",
    "from sklearn.linear_model import LogisticRegression\n",
    "from sklearn.ensemble import RandomForestClassifier\n",
    "from sklearn.linear_model import LogisticRegression\n",
    "from sklearn.tree import DecisionTreeClassifier\n",
    "from sklearn.dummy import DummyClassifier\n",
    "from sklearn.metrics import accuracy_score\n",
    "from sklearn.metrics import precision_recall_curve\n",
    "from sklearn.metrics import roc_curve\n",
    "from sklearn.metrics import roc_auc_score\n",
    "from sklearn.metrics import precision_score\n",
    "from sklearn.metrics import f1_score\n",
    "from sklearn.model_selection import train_test_split\n",
    "from sklearn.preprocessing import OrdinalEncoder\n",
    "from sklearn.preprocessing import StandardScaler\n",
    "from sklearn.metrics import confusion_matrix\n",
    "import matplotlib.pyplot as plt\n",
    "import seaborn as sns\n",
    "import numpy as np\n",
    "from sklearn.utils import shuffle\n",
    "import warnings\n",
    "warnings.filterwarnings(\"ignore\", category=FutureWarning)\n",
    "import sklearn.exceptions\n",
    "warnings.filterwarnings(\"ignore\", category=sklearn.exceptions.UndefinedMetricWarning)"
   ]
  },
  {
   "cell_type": "code",
   "execution_count": 262,
   "metadata": {},
   "outputs": [
    {
     "data": {
      "text/html": [
       "<div>\n",
       "<style scoped>\n",
       "    .dataframe tbody tr th:only-of-type {\n",
       "        vertical-align: middle;\n",
       "    }\n",
       "\n",
       "    .dataframe tbody tr th {\n",
       "        vertical-align: top;\n",
       "    }\n",
       "\n",
       "    .dataframe thead th {\n",
       "        text-align: right;\n",
       "    }\n",
       "</style>\n",
       "<table border=\"1\" class=\"dataframe\">\n",
       "  <thead>\n",
       "    <tr style=\"text-align: right;\">\n",
       "      <th></th>\n",
       "      <th>RowNumber</th>\n",
       "      <th>CustomerId</th>\n",
       "      <th>Surname</th>\n",
       "      <th>CreditScore</th>\n",
       "      <th>Geography</th>\n",
       "      <th>Gender</th>\n",
       "      <th>Age</th>\n",
       "      <th>Tenure</th>\n",
       "      <th>Balance</th>\n",
       "      <th>NumOfProducts</th>\n",
       "      <th>HasCrCard</th>\n",
       "      <th>IsActiveMember</th>\n",
       "      <th>EstimatedSalary</th>\n",
       "      <th>Exited</th>\n",
       "    </tr>\n",
       "  </thead>\n",
       "  <tbody>\n",
       "    <tr>\n",
       "      <td>0</td>\n",
       "      <td>1</td>\n",
       "      <td>15634602</td>\n",
       "      <td>Hargrave</td>\n",
       "      <td>619</td>\n",
       "      <td>France</td>\n",
       "      <td>Female</td>\n",
       "      <td>42</td>\n",
       "      <td>2.0</td>\n",
       "      <td>0.00</td>\n",
       "      <td>1</td>\n",
       "      <td>1</td>\n",
       "      <td>1</td>\n",
       "      <td>101348.88</td>\n",
       "      <td>1</td>\n",
       "    </tr>\n",
       "    <tr>\n",
       "      <td>1</td>\n",
       "      <td>2</td>\n",
       "      <td>15647311</td>\n",
       "      <td>Hill</td>\n",
       "      <td>608</td>\n",
       "      <td>Spain</td>\n",
       "      <td>Female</td>\n",
       "      <td>41</td>\n",
       "      <td>1.0</td>\n",
       "      <td>83807.86</td>\n",
       "      <td>1</td>\n",
       "      <td>0</td>\n",
       "      <td>1</td>\n",
       "      <td>112542.58</td>\n",
       "      <td>0</td>\n",
       "    </tr>\n",
       "    <tr>\n",
       "      <td>2</td>\n",
       "      <td>3</td>\n",
       "      <td>15619304</td>\n",
       "      <td>Onio</td>\n",
       "      <td>502</td>\n",
       "      <td>France</td>\n",
       "      <td>Female</td>\n",
       "      <td>42</td>\n",
       "      <td>8.0</td>\n",
       "      <td>159660.80</td>\n",
       "      <td>3</td>\n",
       "      <td>1</td>\n",
       "      <td>0</td>\n",
       "      <td>113931.57</td>\n",
       "      <td>1</td>\n",
       "    </tr>\n",
       "    <tr>\n",
       "      <td>3</td>\n",
       "      <td>4</td>\n",
       "      <td>15701354</td>\n",
       "      <td>Boni</td>\n",
       "      <td>699</td>\n",
       "      <td>France</td>\n",
       "      <td>Female</td>\n",
       "      <td>39</td>\n",
       "      <td>1.0</td>\n",
       "      <td>0.00</td>\n",
       "      <td>2</td>\n",
       "      <td>0</td>\n",
       "      <td>0</td>\n",
       "      <td>93826.63</td>\n",
       "      <td>0</td>\n",
       "    </tr>\n",
       "    <tr>\n",
       "      <td>4</td>\n",
       "      <td>5</td>\n",
       "      <td>15737888</td>\n",
       "      <td>Mitchell</td>\n",
       "      <td>850</td>\n",
       "      <td>Spain</td>\n",
       "      <td>Female</td>\n",
       "      <td>43</td>\n",
       "      <td>2.0</td>\n",
       "      <td>125510.82</td>\n",
       "      <td>1</td>\n",
       "      <td>1</td>\n",
       "      <td>1</td>\n",
       "      <td>79084.10</td>\n",
       "      <td>0</td>\n",
       "    </tr>\n",
       "  </tbody>\n",
       "</table>\n",
       "</div>"
      ],
      "text/plain": [
       "   RowNumber  CustomerId   Surname  CreditScore Geography  Gender  Age  \\\n",
       "0          1    15634602  Hargrave          619    France  Female   42   \n",
       "1          2    15647311      Hill          608     Spain  Female   41   \n",
       "2          3    15619304      Onio          502    France  Female   42   \n",
       "3          4    15701354      Boni          699    France  Female   39   \n",
       "4          5    15737888  Mitchell          850     Spain  Female   43   \n",
       "\n",
       "   Tenure    Balance  NumOfProducts  HasCrCard  IsActiveMember  \\\n",
       "0     2.0       0.00              1          1               1   \n",
       "1     1.0   83807.86              1          0               1   \n",
       "2     8.0  159660.80              3          1               0   \n",
       "3     1.0       0.00              2          0               0   \n",
       "4     2.0  125510.82              1          1               1   \n",
       "\n",
       "   EstimatedSalary  Exited  \n",
       "0        101348.88       1  \n",
       "1        112542.58       0  \n",
       "2        113931.57       1  \n",
       "3         93826.63       0  \n",
       "4         79084.10       0  "
      ]
     },
     "metadata": {},
     "output_type": "display_data"
    },
    {
     "name": "stdout",
     "output_type": "stream",
     "text": [
      "<class 'pandas.core.frame.DataFrame'>\n",
      "RangeIndex: 10000 entries, 0 to 9999\n",
      "Data columns (total 14 columns):\n",
      "RowNumber          10000 non-null int64\n",
      "CustomerId         10000 non-null int64\n",
      "Surname            10000 non-null object\n",
      "CreditScore        10000 non-null int64\n",
      "Geography          10000 non-null object\n",
      "Gender             10000 non-null object\n",
      "Age                10000 non-null int64\n",
      "Tenure             9091 non-null float64\n",
      "Balance            10000 non-null float64\n",
      "NumOfProducts      10000 non-null int64\n",
      "HasCrCard          10000 non-null int64\n",
      "IsActiveMember     10000 non-null int64\n",
      "EstimatedSalary    10000 non-null float64\n",
      "Exited             10000 non-null int64\n",
      "dtypes: float64(3), int64(8), object(3)\n",
      "memory usage: 1.1+ MB\n"
     ]
    }
   ],
   "source": [
    "data = pd.read_csv('/datasets/Churn.csv')\n",
    "display(data.head())\n",
    "data.info()"
   ]
  },
  {
   "cell_type": "code",
   "execution_count": 263,
   "metadata": {},
   "outputs": [
    {
     "data": {
      "text/plain": [
       "Index(['RowNumber', 'CustomerId', 'Surname', 'CreditScore', 'Geography',\n",
       "       'Gender', 'Age', 'Tenure', 'Balance', 'NumOfProducts', 'HasCrCard',\n",
       "       'IsActiveMember', 'EstimatedSalary', 'Exited'],\n",
       "      dtype='object')"
      ]
     },
     "execution_count": 263,
     "metadata": {},
     "output_type": "execute_result"
    }
   ],
   "source": [
    "data.columns"
   ]
  },
  {
   "cell_type": "code",
   "execution_count": 264,
   "metadata": {},
   "outputs": [],
   "source": [
    "data.columns = ['rowNumber', 'customerId', 'surname', 'creditScore', 'geography',\n",
    "       'gender', 'age', 'tenure', 'balance', 'numOfProducts', 'hasCrCard',\n",
    "       'isActiveMember', 'estimatedSalary', 'exited']"
   ]
  },
  {
   "cell_type": "markdown",
   "metadata": {},
   "source": [
    "Были получены данные о клиентах банка, в ходе их изучения были обнаружены пропуски в поле tenure. Полсе, названия всех полей были приведены к нижнему регистру."
   ]
  },
  {
   "cell_type": "code",
   "execution_count": 265,
   "metadata": {},
   "outputs": [
    {
     "name": "stdout",
     "output_type": "stream",
     "text": [
      "Поле                 Количество пропусков\n",
      "\n",
      "tenure               909  \n"
     ]
    }
   ],
   "source": [
    "#функция для нахождения полей с пропущенными значениями\n",
    "def field_nun(data):  \n",
    "    columns = data.columns\n",
    "    print('{:<20} {:<}'.format('Поле', 'Количество пропусков'))\n",
    "    print()\n",
    "    for i in columns:\n",
    "        empty_count = data.loc[data[i].isnull()]['rowNumber'].count()\n",
    "        if empty_count != 0:\n",
    "            print('{:<20} {:<5}'.format(i, empty_count))\n",
    "\n",
    "\n",
    "field_nun(data)"
   ]
  },
  {
   "cell_type": "code",
   "execution_count": 266,
   "metadata": {},
   "outputs": [],
   "source": [
    "data.loc[data['tenure'].isnull(), 'tenure'] = data['tenure'].median()\n",
    "data = data.drop_duplicates().reset_index(drop = True)"
   ]
  },
  {
   "cell_type": "markdown",
   "metadata": {},
   "source": [
    "Обнаружено 909 пропусков в поле tenure, они были заменены на мединное значение по полю. Также были удалены дубликаты записей."
   ]
  },
  {
   "cell_type": "markdown",
   "metadata": {},
   "source": [
    "# 2. Исследование задачи"
   ]
  },
  {
   "cell_type": "code",
   "execution_count": 267,
   "metadata": {},
   "outputs": [
    {
     "data": {
      "text/plain": [
       "0    7963\n",
       "1    2037\n",
       "Name: exited, dtype: int64"
      ]
     },
     "metadata": {},
     "output_type": "display_data"
    }
   ],
   "source": [
    "#получение баланса классов целевого признака\n",
    "display(data['exited'].value_counts())"
   ]
  },
  {
   "cell_type": "code",
   "execution_count": 268,
   "metadata": {},
   "outputs": [],
   "source": [
    "#создание выборки без полей, которые будут влиять на обучение модели в худшую сторону\n",
    "ml_data = data.drop(['rowNumber', 'customerId', 'surname'], axis = 1)"
   ]
  },
  {
   "cell_type": "code",
   "execution_count": 269,
   "metadata": {},
   "outputs": [],
   "source": [
    "#преобразование строковых полей в численные\n",
    "encoder = OrdinalEncoder()\n",
    "ml_data = pd.DataFrame(encoder.fit_transform(ml_data), columns = ml_data.columns)"
   ]
  },
  {
   "cell_type": "code",
   "execution_count": 270,
   "metadata": {},
   "outputs": [],
   "source": [
    "#разбиение на тренировочную, валидационную и тестовую выборки\n",
    "#определение целевого и остальных признаков\n",
    "data_train, data_40 = train_test_split(ml_data, test_size = 0.4, random_state = 12345)\n",
    "data_valid, data_test = train_test_split(data_40, test_size = 0.5, random_state = 12345)\n",
    "\n",
    "\n",
    "def features_turget_fun(data):\n",
    "    features = data.drop('exited', axis = 1)\n",
    "    target = data['exited']\n",
    "    return features, target\n",
    "\n",
    "\n",
    "features_train, target_train = features_turget_fun(data_train)\n",
    "features_valid, target_valid = features_turget_fun(data_valid)\n",
    "features_test, target_test = features_turget_fun(data_test)"
   ]
  },
  {
   "cell_type": "code",
   "execution_count": 271,
   "metadata": {},
   "outputs": [
    {
     "data": {
      "text/plain": [
       "'Характеристика F1 для модели решающего дерева'"
      ]
     },
     "metadata": {},
     "output_type": "display_data"
    },
    {
     "data": {
      "text/plain": [
       "0.4992826398852224"
      ]
     },
     "metadata": {},
     "output_type": "display_data"
    }
   ],
   "source": [
    "#обучение модели Дерева решенй на глубине 10\n",
    "model_1 = DecisionTreeClassifier(random_state = 12345, max_depth = 10)\n",
    "model_1.fit(features_train, target_train)\n",
    "prediction_1 = model_1.predict(features_valid)\n",
    "display('Характеристика F1 для модели решающего дерева', f1_score(target_valid, prediction_1))"
   ]
  },
  {
   "cell_type": "code",
   "execution_count": 272,
   "metadata": {},
   "outputs": [
    {
     "data": {
      "text/plain": [
       "'Характеристика F1 для модели случайного леса'"
      ]
     },
     "metadata": {},
     "output_type": "display_data"
    },
    {
     "data": {
      "text/plain": [
       "0.5655608214849921"
      ]
     },
     "metadata": {},
     "output_type": "display_data"
    },
    {
     "name": "stdout",
     "output_type": "stream",
     "text": [
      "[[1546   36]\n",
      " [ 239  179]]\n"
     ]
    },
    {
     "data": {
      "image/png": "[encoded data removed]",
      "text/plain": [
       "<Figure size 1080x648 with 1 Axes>"
      ]
     },
     "metadata": {
      "needs_background": "light"
     },
     "output_type": "display_data"
    },
    {
     "name": "stdout",
     "output_type": "stream",
     "text": [
      "значение auc_roc = 0.8515324917281136\n"
     ]
    }
   ],
   "source": [
    "#обучение модели Случайного леса на глубине 10 с количеством деревьев 50\n",
    "model_2 = RandomForestClassifier(random_state = 12345, max_depth = 10, n_estimators = 50)\n",
    "model_2.fit(features_train, target_train)\n",
    "prediction_2 = model_2.predict(features_valid)\n",
    "display('Характеристика F1 для модели случайного леса', f1_score(target_valid, prediction_2))\n",
    "print(confusion_matrix(target_valid, prediction_2))\n",
    "probabilities_valid = model_2.predict_proba(features_valid)\n",
    "probabilities_one_valid = probabilities_valid[:, 1]\n",
    "fpr, tpr, thresholds = roc_curve(target_valid, probabilities_one_valid)\n",
    "plt.figure(figsize=(15, 9))\n",
    "plt.grid()\n",
    "plt.plot(fpr, tpr,linewidth = 5)\n",
    "plt.axvline(x=0.16, ymin=0, ymax=1, color = 'r', linestyle = '--')\n",
    "plt.xlim(0, 1)\n",
    "plt.ylim(0, 1)\n",
    "plt.plot([0, 1], [0, 1], linestyle='--',linewidth = 5,color = 'g')\n",
    "plt.xlabel(\"False Positive Rate\")\n",
    "plt.ylabel(\"True Positive Rate\")\n",
    "plt.title(\"ROC-кривая\")\n",
    "plt.show()\n",
    "\n",
    "auc_roc = roc_auc_score(target_valid, probabilities_one_valid)\n",
    "print('значение auc_roc =', auc_roc)"
   ]
  },
  {
   "cell_type": "markdown",
   "metadata": {},
   "source": [
    "Была получена ROC-кривая модели случайного леса. По красной линии можно определить значение порога, при котором максимально значение TPR и минимально значение FPR. Красная пунктирная линия проведена на значении  0.16 по х, и в пересечении красной линии и синей кривой будет точка с максимально благоприятным порогом для модели."
   ]
  },
  {
   "cell_type": "code",
   "execution_count": 273,
   "metadata": {},
   "outputs": [
    {
     "data": {
      "text/plain": [
       "'Характеристика F1 для модели логистической регрессии'"
      ]
     },
     "metadata": {},
     "output_type": "display_data"
    },
    {
     "data": {
      "text/plain": [
       "0.2742230347349177"
      ]
     },
     "metadata": {},
     "output_type": "display_data"
    }
   ],
   "source": [
    "#обучение модели Логистической регрессии\n",
    "model_3 = LogisticRegression(random_state = 12345, solver = 'liblinear')\n",
    "model_3.fit(features_train, target_train)\n",
    "prediction_3 = model_3.predict(features_valid)\n",
    "display('Характеристика F1 для модели логистической регрессии', f1_score(target_valid, prediction_3))"
   ]
  },
  {
   "cell_type": "markdown",
   "metadata": {},
   "source": [
    "После изучений значений F1 мер различныз моделей была выбрана модель случайного леса с f1 = 0.565. Вернемся к этой модели и изучим ROC-кривую."
   ]
  },
  {
   "cell_type": "markdown",
   "metadata": {},
   "source": [
    "# 3. Борьба с дисбалансом"
   ]
  },
  {
   "cell_type": "code",
   "execution_count": 274,
   "metadata": {},
   "outputs": [],
   "source": [
    "#пересодадим тренировочную, валидационную и тестовую выборки с параметром stratify\n",
    "data_train, data_40 = train_test_split(ml_data, test_size = 0.4, random_state = 12345, stratify = data['exited'])\n",
    "data_valid, data_test = train_test_split(data_40, test_size = 0.5, random_state = 12345, stratify = data_40['exited'])\n",
    "\n",
    "features_train, target_train = features_turget_fun(data_train)\n",
    "features_valid, target_valid = features_turget_fun(data_valid)\n",
    "features_test, target_test = features_turget_fun(data_test)\n",
    "\n",
    "\n",
    "features_zeros = features_train[target_train == 0]\n",
    "features_ones = features_train[target_train == 1]\n",
    "target_zeros = target_train[target_train == 0]\n",
    "target_ones = target_train[target_train == 1]\n",
    "\n",
    "features_upsampled = pd.concat([features_zeros] + [features_ones] * 4)\n",
    "target_upsampled = pd.concat([target_zeros] + [target_ones] * 4) \n",
    "features_train, target_train = shuffle(\n",
    "features_upsampled, target_upsampled, random_state=12345)"
   ]
  },
  {
   "cell_type": "code",
   "execution_count": 249,
   "metadata": {},
   "outputs": [
    {
     "name": "stdout",
     "output_type": "stream",
     "text": [
      "Значение f1  для модели дерева решений 0.5787545787545788\n",
      "7\n",
      "значение auc_roc = 0.8201262131737117\n"
     ]
    }
   ],
   "source": [
    "dtc_model = None\n",
    "best_f1 = 0\n",
    "best_depth = 0\n",
    "for depth in range(1, 11, 1):\n",
    "    model = DecisionTreeClassifier(max_depth = depth, random_state = 12345)\n",
    "    model.fit(features_train, target_train)\n",
    "    prediction_valid = model.predict(features_valid)\n",
    "    result = f1_score(target_valid, prediction_valid)\n",
    "    if result > best_f1:\n",
    "        dtc_model = model\n",
    "        best_f1 = result\n",
    "        best_depth = depth\n",
    "        probabilities_one_valid = model.predict_proba(features_valid)[:, 1]\n",
    "        \n",
    "\n",
    "print('Значение f1  для модели дерева решений', best_f1)\n",
    "print(best_depth)\n",
    "auc_roc = roc_auc_score(target_valid, probabilities_one_valid)\n",
    "print('значение auc_roc =', auc_roc)"
   ]
  },
  {
   "cell_type": "code",
   "execution_count": 252,
   "metadata": {},
   "outputs": [
    {
     "name": "stdout",
     "output_type": "stream",
     "text": [
      "Значение f1  для модели случайного леса 0.6476399560922064\n",
      "10 69\n",
      "значение auc_roc = 0.8666124741353829\n"
     ]
    }
   ],
   "source": [
    "best_f1 = 0\n",
    "best_depth = 0\n",
    "best_est = 0\n",
    "for est in range(65, 75, 1):\n",
    "    for depth in range (1, 11, 1):\n",
    "        model = RandomForestClassifier(random_state=12345, n_estimators=est, max_depth=depth,class_weight = 'balanced')\n",
    "        model.fit(features_train, target_train)\n",
    "        prediction_valid = model.predict(features_valid)\n",
    "        result = f1_score(target_valid, prediction_valid)\n",
    "        if result > best_f1:\n",
    "            best_rfc = model\n",
    "            best_f1 = result\n",
    "            best_depth = depth\n",
    "            best_est = est\n",
    "            probabilities_one_valid = model.predict_proba(features_valid)[:, 1]\n",
    "            \n",
    "print('Значение f1  для модели случайного леса', best_f1)\n",
    "print(best_depth, best_est)\n",
    "auc_roc = roc_auc_score(target_valid, probabilities_one_valid)\n",
    "print('значение auc_roc =', auc_roc)"
   ]
  },
  {
   "cell_type": "code",
   "execution_count": 253,
   "metadata": {},
   "outputs": [
    {
     "name": "stdout",
     "output_type": "stream",
     "text": [
      "Значение f1  для модели логистической регрессии 0.49870129870129876\n",
      "значение auc_roc = 0.7752657281505568\n"
     ]
    }
   ],
   "source": [
    "model_lr = LogisticRegression(random_state=12345, solver='liblinear', class_weight = 'balanced')\n",
    "model_lr.fit(features_train, target_train)\n",
    "prediction_valid = model_lr.predict(features_valid)\n",
    "probabilities_one_valid = model_lr.predict_proba(features_valid)[:, 1]\n",
    "print('Значение f1  для модели логистической регрессии', f1_score(target_valid, prediction_valid))\n",
    "print('значение auc_roc =', roc_auc_score(target_valid, probabilities_one_valid))"
   ]
  },
  {
   "cell_type": "markdown",
   "metadata": {},
   "source": [
    "После обучения поделей Логистической регрессиии, Случайного леса, и Дерева решений с параметрами стратификации по полю exited, и весом слассов при обучении - balanced, при подборе наиболее благоприятных гипперпараметров, исзодя из значения f1 и auc_roc_score была выбрана модель Случайного леса с глубиной дерева 9 и количеством деревьев 35."
   ]
  },
  {
   "cell_type": "code",
   "execution_count": 257,
   "metadata": {
    "scrolled": true
   },
   "outputs": [],
   "source": [
    "scaler = StandardScaler()\n",
    "scaler.fit(features_train)\n",
    "features_train = pd.DataFrame(scaler.transform(features_train), columns = features_train.columns)\n",
    "features_valid = pd.DataFrame(scaler.transform(features_valid), columns = features_train.columns)\n",
    "features_test = pd.DataFrame(scaler.transform(features_test), columns = features_train.columns)"
   ]
  },
  {
   "cell_type": "code",
   "execution_count": 275,
   "metadata": {},
   "outputs": [
    {
     "name": "stdout",
     "output_type": "stream",
     "text": [
      "0.6446644664466448\n",
      "значение auc_roc = 0.8660382180510395\n",
      "[[1384  208]\n",
      " [ 115  293]]\n",
      "Порог = 0.40 | f1 = 0.606\n",
      "Порог = 0.42 | f1 = 0.620\n",
      "Порог = 0.44 | f1 = 0.629\n",
      "Порог = 0.46 | f1 = 0.637\n",
      "Порог = 0.48 | f1 = 0.641\n",
      "Порог = 0.50 | f1 = 0.645\n",
      "Порог = 0.52 | f1 = 0.642\n",
      "Порог = 0.54 | f1 = 0.632\n",
      "Порог = 0.56 | f1 = 0.622\n",
      "Порог = 0.58 | f1 = 0.612\n"
     ]
    }
   ],
   "source": [
    "model = RandomForestClassifier(random_state=12345, n_estimators=69, max_depth=10)\n",
    "model.fit(features_train, target_train)\n",
    "prediction_valid = model.predict(features_valid)\n",
    "probabilities_valid = model.predict_proba(features_valid)\n",
    "probabilities_one_valid = probabilities_valid[:, 1]\n",
    "\n",
    "print(f1_score(target_valid, prediction_valid))\n",
    "auc_roc = roc_auc_score(target_valid, probabilities_one_valid)\n",
    "print('значение auc_roc =', auc_roc)\n",
    "print(confusion_matrix(target_valid, prediction_valid))\n",
    "\n",
    "for threshold in np.arange(0.4, 0.6, 0.02):\n",
    "    predicted_valid = probabilities_one_valid > threshold\n",
    "    f1 = f1_score(target_valid, predicted_valid)\n",
    "    print(\"Порог = {:.2f} | f1 = {:.3f}\".format(\n",
    "        threshold, f1))\n"
   ]
  },
  {
   "cell_type": "markdown",
   "metadata": {},
   "source": [
    "После выбора лучшей модели, значения признаков были промасштбированы. Модель идентичная лучшей была обучена на новых данных.\n",
    "Значения f1 и auc-roc получились такими же. При определении наилучшего порога изучялись сами пороги и значения f1 на них.\n",
    "Как следствие, лучший порог равен 0.5"
   ]
  },
  {
   "cell_type": "markdown",
   "metadata": {},
   "source": [
    "# 4. Тестирование модели"
   ]
  },
  {
   "cell_type": "code",
   "execution_count": 279,
   "metadata": {},
   "outputs": [
    {
     "name": "stdout",
     "output_type": "stream",
     "text": [
      "0.5929203539823009\n"
     ]
    },
    {
     "data": {
      "image/png": "[encoded data removed]",
      "text/plain": [
       "<Figure size 1080x648 with 1 Axes>"
      ]
     },
     "metadata": {
      "needs_background": "light"
     },
     "output_type": "display_data"
    },
    {
     "name": "stdout",
     "output_type": "stream",
     "text": [
      "значение f1_score = 0.5929203539823009\n",
      "значение auc_roc = 0.8473727965253389\n"
     ]
    }
   ],
   "source": [
    "prediction_test = model.predict(features_test)\n",
    "print(f1_score(target_test, prediction_test))\n",
    "probabilities_test = model.predict_proba(features_test)\n",
    "probabilities_one_test = probabilities_test[:, 1]\n",
    "fpr, tpr, thresholds = roc_curve(target_test, probabilities_one_test)\n",
    "plt.figure(figsize=(15, 9))\n",
    "plt.grid()\n",
    "plt.plot(fpr, tpr,linewidth = 5)\n",
    "plt.axvline(x=0.18, ymin=0, ymax=1, color = 'r', linestyle = '--')\n",
    "plt.xlim(0, 1)\n",
    "plt.ylim(0, 1)\n",
    "plt.plot([0, 1], [0, 1], linestyle='--',linewidth = 5,color = 'g')\n",
    "plt.xlabel(\"False Positive Rate\")\n",
    "plt.ylabel(\"True Positive Rate\")\n",
    "plt.title(\"ROC-кривая\")\n",
    "plt.show()\n",
    "\n",
    "print('значение f1_score =', f1_score(target_test, prediction_test))\n",
    "print('значение auc_roc =', roc_auc_score(target_test, probabilities_one_test))"
   ]
  },
  {
   "cell_type": "markdown",
   "metadata": {},
   "source": [
    "После тестирования модели значения f1 и auc_roc получились следующими: значение f1_score = 0.593, \n",
    "значение auc_roc = 0.85. В данном проекте требовалось довести значение f1 выше 0.59.\n",
    "Поставленная задача выполнена."
   ]
  },
  {
   "cell_type": "markdown",
   "metadata": {},
   "source": [
    "# Общий вывод"
   ]
  },
  {
   "cell_type": "markdown",
   "metadata": {},
   "source": [
    "В ходе данного проекта было проделано следующее: \n",
    "1. Были получены данные о клиентах банка, в ходе их изучения были обнаружены пропуски в поле tenure. Полсе, названия всех полей были приведены к нижнему регистру.\n",
    "2. Обнаружено 909 пропусков в поле tenure, они были заменены на мединное значение по полю. Также были удалены дубликаты записей.\n",
    "3. После изучений значений F1 мер различныз моделей была выбрана модель случайного леса с f1 = 0.565\n",
    "4. Была получена ROC-кривая модели случайного леса. По красной линии можно определить значение порога, при котором максимально значение TPR и минимально значение FPR. Красная пунктирная линия проведена на значении 0.16 по х, и в пересечении красной линии и синей кривой будет точка с максимально благоприятным порогом для модели.\n",
    "5. После обучения поделей Логистической регрессиии, Случайного леса, и Дерева решений с параметрами стратификации по полю exited, и весом слассов при обучении - balanced, при подборе наиболее благоприятных гипперпараметров, исзодя из значения f1 и auc_roc_score была выбрана модель Случайного леса с глубиной дерева 9 и количеством деревьев 35.\n",
    "6. После выбора лучшей модели, значения признаков были промасштбированы. Модель идентичная лучшей была обучена на новых данных. Значения f1 и auc-roc получились такими же. При определении наилучшего порога изучялись сами пороги и значения f1 на них. Как следствие, лучший порог равен 0.5\n",
    "7. После тестирования модели значения f1 и auc_roc получились следующими: значение f1_score = 0.593, значение auc_roc = 0.85. \n",
    "8. В данном проекте требовалось довести значение f1 выше 0.59. Поставленная задача выполнена."
   ]
  },
  {
   "cell_type": "markdown",
   "metadata": {},
   "source": [
    "# Чек-лист готовности проекта"
   ]
  },
  {
   "cell_type": "markdown",
   "metadata": {},
   "source": [
    "Поставьте 'x' в выполненных пунктах. Далее нажмите Shift+Enter."
   ]
  },
  {
   "cell_type": "markdown",
   "metadata": {},
   "source": [
    "- [x]  Jupyter Notebook открыт\n",
    "- [x]  Весь код выполняется без ошибок\n",
    "- [x]  Ячейки с кодом расположены в порядке исполнения\n",
    "- [x]  Выполнен шаг 1: данные подготовлены\n",
    "- [x]  Выполнен шаг 2: задача исследована\n",
    "    - [x]  Исследован баланс классов\n",
    "    - [x]  Изучены модели без учёта дисбаланса\n",
    "    - [x]  Написаны выводы по результатам исследования\n",
    "- [x]  Выполнен шаг 3: учтён дисбаланс\n",
    "    - [x]  Применено несколько способов борьбы с дисбалансом\n",
    "    - [x]  Написаны выводы по результатам исследования\n",
    "- [x]  Выполнен шаг 4: проведено тестирование\n",
    "- [x]  Удалось достичь *F1*-меры не менее 0.59\n",
    "- [x]  Исследована метрика *AUC-ROC*"
   ]
  },
  {
   "cell_type": "code",
   "execution_count": null,
   "metadata": {},
   "outputs": [],
   "source": []
  }
 ],
 "metadata": {
  "kernelspec": {
   "display_name": "Python 3",
   "language": "python",
   "name": "python3"
  },
  "language_info": {
   "codemirror_mode": {
    "name": "ipython",
    "version": 3
   },
   "file_extension": ".py",
   "mimetype": "text/x-python",
   "name": "python",
   "nbconvert_exporter": "python",
   "pygments_lexer": "ipython3",
   "version": "3.7.8"
  },
  "toc": {
   "base_numbering": 1,
   "nav_menu": {},
   "number_sections": true,
   "sideBar": true,
   "skip_h1_title": false,
   "title_cell": "Table of Contents",
   "title_sidebar": "Contents",
   "toc_cell": false,
   "toc_position": {},
   "toc_section_display": true,
   "toc_window_display": false
  }
 },
 "nbformat": 4,
 "nbformat_minor": 2
}
