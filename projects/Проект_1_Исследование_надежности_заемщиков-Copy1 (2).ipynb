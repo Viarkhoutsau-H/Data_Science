{
 "cells": [
  {
   "cell_type": "markdown",
   "metadata": {},
   "source": [
    "## Исследование надёжности заёмщиков\n",
    "\n",
    "Заказчик — кредитный отдел банка. Нужно разобраться, влияет ли семейное положение и количество детей клиента на факт погашения кредита в срок. Входные данные от банка — статистика о платёжеспособности клиентов.\n",
    "\n",
    "Результаты исследования будут учтены при построении модели **кредитного скоринга** — специальной системы, которая оценивает способность потенциального заёмщика вернуть кредит банку."
   ]
  },
  {
   "cell_type": "markdown",
   "metadata": {},
   "source": [
    "### Шаг 1. Откройте файл с данными и изучите общую информацию. "
   ]
  },
  {
   "cell_type": "code",
   "execution_count": 50,
   "metadata": {},
   "outputs": [
    {
     "name": "stdout",
     "output_type": "stream",
     "text": [
      "   children  days_employed  dob_years education  education_id  \\\n",
      "0         1   -8437.673028         42    высшее             0   \n",
      "1         1   -4024.803754         36   среднее             1   \n",
      "2         0   -5623.422610         33   Среднее             1   \n",
      "3         3   -4124.747207         32   среднее             1   \n",
      "4         0  340266.072047         53   среднее             1   \n",
      "5         0    -926.185831         27    высшее             0   \n",
      "6         0   -2879.202052         43    высшее             0   \n",
      "7         0    -152.779569         50   СРЕДНЕЕ             1   \n",
      "8         2   -6929.865299         35    ВЫСШЕЕ             0   \n",
      "9         0   -2188.756445         41   среднее             1   \n",
      "\n",
      "      family_status  family_status_id gender income_type  debt   total_income  \\\n",
      "0   женат / замужем                 0      F   сотрудник     0  253875.639453   \n",
      "1   женат / замужем                 0      F   сотрудник     0  112080.014102   \n",
      "2   женат / замужем                 0      M   сотрудник     0  145885.952297   \n",
      "3   женат / замужем                 0      M   сотрудник     0  267628.550329   \n",
      "4  гражданский брак                 1      F   пенсионер     0  158616.077870   \n",
      "5  гражданский брак                 1      M   компаньон     0  255763.565419   \n",
      "6   женат / замужем                 0      F   компаньон     0  240525.971920   \n",
      "7   женат / замужем                 0      M   сотрудник     0  135823.934197   \n",
      "8  гражданский брак                 1      F   сотрудник     0   95856.832424   \n",
      "9   женат / замужем                 0      M   сотрудник     0  144425.938277   \n",
      "\n",
      "                      purpose  \n",
      "0               покупка жилья  \n",
      "1     приобретение автомобиля  \n",
      "2               покупка жилья  \n",
      "3  дополнительное образование  \n",
      "4             сыграть свадьбу  \n",
      "5               покупка жилья  \n",
      "6           операции с жильем  \n",
      "7                 образование  \n",
      "8       на проведение свадьбы  \n",
      "9     покупка жилья для семьи  \n",
      "<class 'pandas.core.frame.DataFrame'>\n",
      "RangeIndex: 21525 entries, 0 to 21524\n",
      "Data columns (total 12 columns):\n",
      "children            21525 non-null int64\n",
      "days_employed       19351 non-null float64\n",
      "dob_years           21525 non-null int64\n",
      "education           21525 non-null object\n",
      "education_id        21525 non-null int64\n",
      "family_status       21525 non-null object\n",
      "family_status_id    21525 non-null int64\n",
      "gender              21525 non-null object\n",
      "income_type         21525 non-null object\n",
      "debt                21525 non-null int64\n",
      "total_income        19351 non-null float64\n",
      "purpose             21525 non-null object\n",
      "dtypes: float64(2), int64(5), object(5)\n",
      "memory usage: 2.0+ MB\n"
     ]
    },
    {
     "data": {
      "text/plain": [
       "None"
      ]
     },
     "metadata": {},
     "output_type": "display_data"
    }
   ],
   "source": [
    "import pandas as pd\n",
    "from pymystem3 import Mystem\n",
    "from collections import Counter\n",
    "\n",
    "data = pd.read_csv('/datasets/data.csv')\n",
    "print(data.head(10))\n",
    "display(data.info())"
   ]
  },
  {
   "cell_type": "markdown",
   "metadata": {},
   "source": [
    "### Вывод"
   ]
  },
  {
   "cell_type": "markdown",
   "metadata": {},
   "source": [
    "Исходя из полученной информации можно сделать вывод, что некотрые поля содержат некоректные данные"
   ]
  },
  {
   "cell_type": "markdown",
   "metadata": {},
   "source": [
    "### Шаг 2. Предобработка данных"
   ]
  },
  {
   "cell_type": "markdown",
   "metadata": {},
   "source": [
    "### Обработка пропусков"
   ]
  },
  {
   "cell_type": "code",
   "execution_count": 52,
   "metadata": {},
   "outputs": [],
   "source": [
    "def field_nun(data):  #функция для нахождения полей с пропущенными значениями\n",
    "    columns = data.columns\n",
    "    for i in columns:\n",
    "        if data.loc[data[i].isnull()]['education_id'].count() > 0:\n",
    "            print(i)\n",
    "\n",
    "\n",
    "field_nun(data)\n",
    "data['days_employed'] = data['days_employed'].abs()\n",
    "#data.loc[data['days_employed'] >= data['days_employed'].max() / 24, 'days_employed'] = data['days_employed'] / 24\n",
    "data.loc[data['gender'] == 'XNA', 'gender'] = 'M'\n",
    "data.loc[data['dob_years'] == 0, 'dob_years'] = data['dob_years'].mean()\n",
    "data.loc[(data['children'] == -1) | (data['children'] == 20), 'children'] = data['children'].median()\n",
    "\n",
    "days_employed_median = data['days_employed'].mean()\n",
    "total_income_median = data['total_income'].median()\n",
    "\n",
    "data['days_employed'] = data['days_employed'].fillna(days_employed_median)\n",
    "data['total_income'] = data['total_income'].fillna(total_income_median)\n",
    "\n",
    "\n",
    "\n",
    "\n",
    "\n",
    "\n",
    "\n",
    "\n",
    "\n",
    "\n",
    "\n",
    "\n",
    "\n",
    "\n"
   ]
  },
  {
   "cell_type": "markdown",
   "metadata": {},
   "source": [
    "### Вывод"
   ]
  },
  {
   "cell_type": "markdown",
   "metadata": {},
   "source": [
    "Были обнаружены пропущенные значения в полях days_employed и total_income, кроме этого в поле days_employed были найдены большие значения, которые не могут соответсвовать реальности, если они в днях и отрицательные велечины. По моим предположениям, пропущенные значения связаны с тем, что люди не работали и, следовательно, не имели дохода, отрицательные значения я связываю с ошибками ввода данных, очень большие значения связываю с тем, что ввод осуществлялся в часах, а не в днях. Отрицательные значения были заменены значениями модулю велечин, большие значения были переведены из часов в дни. Пропуски в поле days_employed были заменены на среднее арифметическое, так как отклонение велечин от этого среднего не велико. В поле total_income пропуски были заменены медианой, из-за большого разброса значений. В  поле gender был обнаружен баг со значением XNA, значение было изменено на значение М.В поле children найдены значения -1 и 20, они заменены на медиану, так как в случае со среднем получается не целое число, к детям это применить нельзя. В поле dob_years найдены люди с возрастом 0, значение заменено на среднее по полю. Я связываю такие данные с некорректным вводом"
   ]
  },
  {
   "cell_type": "markdown",
   "metadata": {},
   "source": [
    "### Замена типа данных"
   ]
  },
  {
   "cell_type": "code",
   "execution_count": 53,
   "metadata": {
    "scrolled": true
   },
   "outputs": [
    {
     "data": {
      "text/plain": [
       "children             int64\n",
       "days_employed        int64\n",
       "dob_years            int64\n",
       "education           object\n",
       "education_id         int64\n",
       "family_status       object\n",
       "family_status_id     int64\n",
       "gender              object\n",
       "income_type         object\n",
       "debt                 int64\n",
       "total_income         int64\n",
       "purpose             object\n",
       "dtype: object"
      ]
     },
     "metadata": {},
     "output_type": "display_data"
    }
   ],
   "source": [
    "float_types_list = ['days_employed', 'total_income', 'dob_years', 'children']\n",
    "\n",
    "for i in float_types_list:\n",
    "    data[i] = data[i].astype('int')\n",
    "\n",
    "display(data.dtypes)\n",
    "\n"
   ]
  },
  {
   "cell_type": "markdown",
   "metadata": {},
   "source": [
    "### Вывод"
   ]
  },
  {
   "cell_type": "code",
   "execution_count": 54,
   "metadata": {},
   "outputs": [
    {
     "name": "stdout",
     "output_type": "stream",
     "text": [
      "<class 'pandas.core.frame.DataFrame'>\n",
      "RangeIndex: 21525 entries, 0 to 21524\n",
      "Data columns (total 12 columns):\n",
      "children            21525 non-null int64\n",
      "days_employed       21525 non-null int64\n",
      "dob_years           21525 non-null int64\n",
      "education           21525 non-null object\n",
      "education_id        21525 non-null int64\n",
      "family_status       21525 non-null object\n",
      "family_status_id    21525 non-null int64\n",
      "gender              21525 non-null object\n",
      "income_type         21525 non-null object\n",
      "debt                21525 non-null int64\n",
      "total_income        21525 non-null int64\n",
      "purpose             21525 non-null object\n",
      "dtypes: int64(7), object(5)\n",
      "memory usage: 2.0+ MB\n"
     ]
    },
    {
     "data": {
      "text/plain": [
       "None"
      ]
     },
     "metadata": {},
     "output_type": "display_data"
    }
   ],
   "source": [
    "display(data.info())"
   ]
  },
  {
   "cell_type": "markdown",
   "metadata": {},
   "source": [
    "В полях days_employed и total_income были обновлены типы данных, теперь они int64. Использовался метод astype(), так как меняли с типа float."
   ]
  },
  {
   "cell_type": "markdown",
   "metadata": {},
   "source": [
    "### Обработка дубликатов"
   ]
  },
  {
   "cell_type": "code",
   "execution_count": 55,
   "metadata": {},
   "outputs": [
    {
     "name": "stdout",
     "output_type": "stream",
     "text": [
      "71\n",
      "0\n"
     ]
    }
   ],
   "source": [
    "data['education'] = data['education'].str.lower()\n",
    "print(data.duplicated().sum())\n",
    "data = data.drop_duplicates().reset_index(drop = True)\n",
    "print(data.duplicated().sum())\n",
    "\n",
    "\n"
   ]
  },
  {
   "cell_type": "markdown",
   "metadata": {},
   "source": [
    "### Вывод"
   ]
  },
  {
   "cell_type": "markdown",
   "metadata": {},
   "source": [
    "Так как в таблице остутсвуют поля, которые могут идентифицировать каждую запись, было приянто решение искать полные дубликаты. Было обнаружено и удалено 54 дубликата. Кроме этого в поле education были обнаружены строки, которые имеют один и тот же смысл, но написаны по-разному, например, \"высшее\" и \"ВЫСШЕЕ\". Все значения таких дубликатов были приведены к  нижнему регистру."
   ]
  },
  {
   "cell_type": "markdown",
   "metadata": {},
   "source": [
    "### Лемматизация"
   ]
  },
  {
   "cell_type": "code",
   "execution_count": 56,
   "metadata": {},
   "outputs": [
    {
     "name": "stdout",
     "output_type": "stream",
     "text": [
      "['покупка жилья' 'приобретение автомобиля' 'дополнительное образование'\n",
      " 'сыграть свадьбу' 'операции с жильем' 'образование'\n",
      " 'на проведение свадьбы' 'покупка жилья для семьи' 'покупка недвижимости'\n",
      " 'покупка коммерческой недвижимости' 'покупка жилой недвижимости'\n",
      " 'строительство собственной недвижимости' 'недвижимость'\n",
      " 'строительство недвижимости' 'на покупку подержанного автомобиля'\n",
      " 'на покупку своего автомобиля' 'операции с коммерческой недвижимостью'\n",
      " 'строительство жилой недвижимости' 'жилье'\n",
      " 'операции со своей недвижимостью' 'автомобили' 'заняться образованием'\n",
      " 'сделка с подержанным автомобилем' 'получение образования' 'автомобиль'\n",
      " 'свадьба' 'получение дополнительного образования' 'покупка своего жилья'\n",
      " 'операции с недвижимостью' 'получение высшего образования'\n",
      " 'свой автомобиль' 'сделка с автомобилем' 'профильное образование'\n",
      " 'высшее образование' 'покупка жилья для сдачи' 'на покупку автомобиля'\n",
      " 'ремонт жилью' 'заняться высшим образованием']\n",
      "Counter({' ': 59, '\\n': 38, 'покупка': 10, 'недвижимость': 10, 'автомобиль': 9, 'образование': 9, 'жилье': 7, 'с': 5, 'операция': 4, 'на': 4, 'свой': 4, 'свадьба': 3, 'строительство': 3, 'получение': 3, 'высокий': 3, 'дополнительный': 2, 'для': 2, 'коммерческий': 2, 'жилой': 2, 'заниматься': 2, 'сделка': 2, 'приобретение': 1, 'сыграть': 1, 'проведение': 1, 'семья': 1, 'собственный': 1, 'подержать': 1, 'со': 1, 'подержанный': 1, 'профильный': 1, 'сдача': 1, 'ремонт': 1})\n"
     ]
    }
   ],
   "source": [
    "data_purpose = data['purpose'].unique()\n",
    "print(data_purpose)\n",
    "lemma_list = []\n",
    "m = Mystem()\n",
    "for row in data_purpose:\n",
    "    lemma = m.lemmatize(row)\n",
    "    for i in lemma:\n",
    "        lemma_list.append(i)\n",
    "print(Counter(lemma_list))\n"
   ]
  },
  {
   "cell_type": "markdown",
   "metadata": {},
   "source": [
    "### Вывод"
   ]
  },
  {
   "cell_type": "markdown",
   "metadata": {},
   "source": [
    "В ходе лемматизации обнаружены следующие категории для целей: недвижимость, автомобиль, образование, жилье, свадьба."
   ]
  },
  {
   "cell_type": "markdown",
   "metadata": {},
   "source": [
    "### Категоризация данных"
   ]
  },
  {
   "cell_type": "code",
   "execution_count": 57,
   "metadata": {},
   "outputs": [
    {
     "name": "stdout",
     "output_type": "stream",
     "text": [
      "недвижимость    6351\n",
      "жилье           4460\n",
      "автомобиль      4306\n",
      "образование     4013\n",
      "свадьба         2324\n",
      "Name: purpose_group, dtype: int64\n",
      "нет детей      14214\n",
      "есть дети       6860\n",
      "многодетный      380\n",
      "Name: children_group, dtype: int64\n",
      "от 120000 до 200000    9543\n",
      "от 70000 до 12000      5371\n",
      "от 200000              5066\n",
      "до 70000               1474\n",
      "Name: total_income_group, dtype: int64\n"
     ]
    }
   ],
   "source": [
    "def purpose_group(purpose):\n",
    "    lem_purpose = m.lemmatize(purpose)\n",
    "    if 'недвижимость' in lem_purpose:\n",
    "        return 'недвижимость'\n",
    "    elif 'автомобиль' in lem_purpose:\n",
    "        return 'автомобиль'\n",
    "    elif 'образование' in lem_purpose:\n",
    "        return 'образование'\n",
    "    elif 'свадьба' in lem_purpose:\n",
    "        return 'свадьба'\n",
    "    elif 'жилье' in lem_purpose:\n",
    "        return 'жилье'\n",
    "    else: \n",
    "        return purpose\n",
    "    \n",
    "def children_group(children):\n",
    "    if children == 0:\n",
    "        return 'нет детей'\n",
    "    elif 0 < children <=2:\n",
    "        return 'есть дети'\n",
    "    else:\n",
    "        return 'многодетный'\n",
    "    \n",
    "def total_income_group(income):\n",
    "    if income < 70000:\n",
    "        return 'до 70000'\n",
    "    elif 70000 <= income < 120000:\n",
    "        return 'от 70000 до 12000'\n",
    "    elif 120000 <= income < 200000:\n",
    "        return 'от 120000 до 200000'\n",
    "    else:\n",
    "        return 'от 200000'\n",
    "    \n",
    "    \n",
    "    \n",
    "data['purpose_group'] = data['purpose'].apply(purpose_group)\n",
    "data['children_group'] = data['children'].apply(children_group)\n",
    "data['total_income_group'] = data['total_income'].apply(total_income_group)\n",
    "print(data['purpose_group'].value_counts())\n",
    "print(data['children_group'].value_counts())\n",
    "print(data['total_income_group'].value_counts())\n"
   ]
  },
  {
   "cell_type": "markdown",
   "metadata": {},
   "source": [
    "### Вывод"
   ]
  },
  {
   "cell_type": "markdown",
   "metadata": {},
   "source": [
    "Также были поделены на категории поля children и total_income."
   ]
  },
  {
   "cell_type": "markdown",
   "metadata": {},
   "source": [
    "### Шаг 3. Ответьте на вопросы"
   ]
  },
  {
   "cell_type": "markdown",
   "metadata": {},
   "source": [
    "- Есть ли зависимость между наличием детей и возвратом кредита в срок?"
   ]
  },
  {
   "cell_type": "code",
   "execution_count": 58,
   "metadata": {},
   "outputs": [
    {
     "name": "stdout",
     "output_type": "stream",
     "text": [
      "                Вернули в срок  Вернули в срок / Все\n",
      "children_group                                      \n",
      "есть дети                 6222                 90.70\n",
      "многодетный                349                 91.84\n",
      "нет детей                13142                 92.46\n"
     ]
    }
   ],
   "source": [
    "children_pivot = data.pivot_table(index=['children_group'], columns ='debt', values = 'days_employed', aggfunc = 'count')\n",
    "children_pivot.set_axis(['Вернули в срок', 'Вернули в срок / Все'], axis = 'columns', inplace = True)\n",
    "children_pivot['Вернули в срок / Все'] = round(children_pivot['Вернули в срок']/data['children_group'].value_counts() * 100,2)\n",
    "print(children_pivot)"
   ]
  },
  {
   "cell_type": "markdown",
   "metadata": {},
   "source": [
    "### Вывод"
   ]
  },
  {
   "cell_type": "markdown",
   "metadata": {},
   "source": [
    "Из полученных результатов делаем вывод, что люди без детей возвращают кредиты вовремя чаще чем многодетные и люди с 1-2 детьми."
   ]
  },
  {
   "cell_type": "markdown",
   "metadata": {},
   "source": [
    "- Есть ли зависимость между семейным положением и возвратом кредита в срок?"
   ]
  },
  {
   "cell_type": "code",
   "execution_count": 59,
   "metadata": {},
   "outputs": [
    {
     "name": "stdout",
     "output_type": "stream",
     "text": [
      "                       Вернули в срок  Вернули в срок / Все\n",
      "family_status                                              \n",
      "Не женат / не замужем            2536                 90.25\n",
      "в разводе                        1110                 92.89\n",
      "вдовец / вдова                    896                 93.43\n",
      "гражданский брак                 3763                 90.65\n",
      "женат / замужем                 11408                 92.45\n"
     ]
    }
   ],
   "source": [
    "family_status_pivot = data.pivot_table(index = ['family_status'], columns = 'debt', values = 'days_employed', aggfunc ='count')\n",
    "family_status_pivot.set_axis(['Вернули в срок', 'Вернули в срок / Все'], axis = 'columns', inplace = True)\n",
    "family_status_pivot['Вернули в срок / Все'] = round(family_status_pivot['Вернули в срок']/data['family_status'].value_counts() * 100,2)\n",
    "print(family_status_pivot)"
   ]
  },
  {
   "cell_type": "markdown",
   "metadata": {},
   "source": [
    "### Вывод"
   ]
  },
  {
   "cell_type": "markdown",
   "metadata": {},
   "source": [
    "Сделаем вывод, что люди, которые когда-либо узаконивывали свои отношения возвращают кредиты вовремя чаще чем люди без штампов в паспорте. Стоит выделить вдовцов и вдов, они выглядят надежнее остальных."
   ]
  },
  {
   "cell_type": "markdown",
   "metadata": {},
   "source": [
    "- Есть ли зависимость между уровнем дохода и возвратом кредита в срок?"
   ]
  },
  {
   "cell_type": "code",
   "execution_count": 60,
   "metadata": {},
   "outputs": [
    {
     "name": "stdout",
     "output_type": "stream",
     "text": [
      "                     Вернули в срок  Вернули в срок / Все\n",
      "total_income_group                                       \n",
      "до 70000                       1373                 93.15\n",
      "от 120000 до 200000            8711                 91.28\n",
      "от 200000                      4708                 92.93\n",
      "от 70000 до 12000              4921                 91.62\n"
     ]
    }
   ],
   "source": [
    "total_income_group_pivot = data.pivot_table(index=['total_income_group'], columns ='debt', values = 'days_employed', aggfunc = 'count')\n",
    "total_income_group_pivot.set_axis(['Вернули в срок', 'Вернули в срок / Все'], axis = 'columns', inplace = True)\n",
    "total_income_group_pivot['Вернули в срок / Все'] = round(total_income_group_pivot['Вернули в срок']/data['total_income_group'].value_counts() * 100,2)\n",
    "print(total_income_group_pivot)"
   ]
  },
  {
   "cell_type": "markdown",
   "metadata": {},
   "source": [
    "### Вывод"
   ]
  },
  {
   "cell_type": "markdown",
   "metadata": {},
   "source": [
    "Люди с низким зароботком относятся ответственнее к кредитам чем люди со средним заработком. Но от них не отстают богатые."
   ]
  },
  {
   "cell_type": "markdown",
   "metadata": {},
   "source": [
    "- Как разные цели кредита влияют на его возврат в срок?"
   ]
  },
  {
   "cell_type": "code",
   "execution_count": 61,
   "metadata": {},
   "outputs": [
    {
     "name": "stdout",
     "output_type": "stream",
     "text": [
      "               Вернули в срок  Вернули в срок / Все\n",
      "purpose_group                                      \n",
      "автомобиль               3903                 90.64\n",
      "жилье                    4152                 93.09\n",
      "недвижимость             5877                 92.54\n",
      "образование              3643                 90.78\n",
      "свадьба                  2138                 92.00\n"
     ]
    }
   ],
   "source": [
    "purpose_debt_table_pivot = data.pivot_table(index=['purpose_group'], columns ='debt', values = 'days_employed', aggfunc = 'count')\n",
    "purpose_debt_table_pivot.set_axis(['Вернули в срок', 'Вернули в срок / Все'], axis = 'columns', inplace = True)\n",
    "purpose_debt_table_pivot['Вернули в срок / Все'] = round(purpose_debt_table_pivot['Вернули в срок']/data['purpose_group'].value_counts() * 100,2)\n",
    "print(purpose_debt_table_pivot)\n"
   ]
  },
  {
   "cell_type": "markdown",
   "metadata": {},
   "source": [
    "### Вывод"
   ]
  },
  {
   "cell_type": "markdown",
   "metadata": {},
   "source": [
    "Люди, покупающие жилье, к кредитам относятся чуть серьезнее остальных. Возврат кредитов для образования и авто возвращаются не так вовремя, как кредит на свадьбу или недвижимость"
   ]
  },
  {
   "cell_type": "markdown",
   "metadata": {},
   "source": [
    "### Шаг 4. Общий вывод"
   ]
  },
  {
   "cell_type": "markdown",
   "metadata": {},
   "source": [
    "В ходе проектной работы были устранены следующие проблемы с данными: были заменыне пропущенные значения в полях на медианы и средние арифметические по полю, изменены типы некоторых полей с float на int, по причине целесообразности, например, в поле о количестве дете нет смысла хранить не целые числа. Кроме этого поля со строковыми данными были приведены к одному регистра для дальнейшего поиска дубликатов, позже дубликаты были обнаружены и удалены. Перед получением основных зависимостей данны были категоризованы по полям целей займа, уровню дохода и наличия/отсутсвия детей. По полученным зависимостям можно сказать следующее: \n",
    "##1) люди, у которых нет детей возвращают кредиты вопремя чаще многодетных и ещё чаще людей с 1-2 детьми; \n",
    "##2) люди, которые когда-либо узаконивали свои отношения относятся к кредитам серьезнее людей в гражданском браке или пока одних;\n",
    "##3) люди со средним уровнем дохода не так ответсвенны к возврату кредита, как люди с высоким и низким ежемесячным заработком;\n",
    "##4) вероятность возврата кредита на авто или образование в срок не такая большая как заемщиков на свадьюу, жильё или недвижимость.\n"
   ]
  },
  {
   "cell_type": "markdown",
   "metadata": {},
   "source": [
    "### Чек-лист готовности проекта\n",
    "\n",
    "Поставьте 'x' в выполненных пунктах. Далее нажмите Shift+Enter."
   ]
  },
  {
   "cell_type": "markdown",
   "metadata": {},
   "source": [
    "- [x]  открыт файл;\n",
    "- [x]  файл изучен;\n",
    "- [x]  определены пропущенные значения;\n",
    "- [x]  заполнены пропущенные значения;\n",
    "- [x]  есть пояснение, какие пропущенные значения обнаружены;\n",
    "- [x]  описаны возможные причины появления пропусков в данных;\n",
    "- [x]  объяснено, по какому принципу заполнены пропуски;\n",
    "- [x]  заменен вещественный тип данных на целочисленный;\n",
    "- [x]  есть пояснение, какой метод используется для изменения типа данных и почему;\n",
    "- [x]  удалены дубликаты;\n",
    "- [x]  есть пояснение, какой метод используется для поиска и удаления дубликатов;\n",
    "- [x]  описаны возможные причины появления дубликатов в данных;\n",
    "- [x]  выделены леммы в значениях столбца с целями получения кредита;\n",
    "- [x]  описан процесс лемматизации;\n",
    "- [x]  данные категоризированы;\n",
    "- [x]  есть объяснение принципа категоризации данных;\n",
    "- [x]  есть ответ на вопрос: \"Есть ли зависимость между наличием детей и возвратом кредита в срок?\";\n",
    "- [x]  есть ответ на вопрос: \"Есть ли зависимость между семейным положением и возвратом кредита в срок?\";\n",
    "- [x]  есть ответ на вопрос: \"Есть ли зависимость между уровнем дохода и возвратом кредита в срок?\";\n",
    "- [x]  есть ответ на вопрос: \"Как разные цели кредита влияют на его возврат в срок?\";\n",
    "- [x]  в каждом этапе есть выводы;\n",
    "- [x]  есть общий вывод."
   ]
  }
 ],
 "metadata": {
  "kernelspec": {
   "display_name": "Python 3",
   "language": "python",
   "name": "python3"
  },
  "language_info": {
   "codemirror_mode": {
    "name": "ipython",
    "version": 3
   },
   "file_extension": ".py",
   "mimetype": "text/x-python",
   "name": "python",
   "nbconvert_exporter": "python",
   "pygments_lexer": "ipython3",
   "version": "3.7.8"
  },
  "toc": {
   "base_numbering": 1,
   "nav_menu": {},
   "number_sections": true,
   "sideBar": true,
   "skip_h1_title": false,
   "title_cell": "Table of Contents",
   "title_sidebar": "Contents",
   "toc_cell": false,
   "toc_position": {},
   "toc_section_display": true,
   "toc_window_display": false
  }
 },
 "nbformat": 4,
 "nbformat_minor": 2
}
